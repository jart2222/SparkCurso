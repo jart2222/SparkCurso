{
 "cells": [
  {
   "cell_type": "code",
   "execution_count": 1,
   "id": "74f6153c",
   "metadata": {},
   "outputs": [],
   "source": [
    "import findspark\n",
    "from pyspark.sql import SparkSession\n",
    "from pyspark.sql.types import *\n",
    "from pyspark.sql.functions import *\n",
    "findspark.init()\n",
    "spark = SparkSession.builder.getOrCreate()\n",
    "sc = spark.sparkContext"
   ]
  },
  {
   "cell_type": "code",
   "execution_count": 2,
   "id": "cf88e25b-0b57-49ac-9e3c-b114fd1bd61e",
   "metadata": {},
   "outputs": [
    {
     "data": {
      "text/html": [
       "<style>\n",
       ".output_subarea.output_text.output_stream.output_stdout > pre {\n",
       "  width:max-content;\n",
       "}\n",
       ".p-Widget.jp-RenderedText.jp-OutputArea-output > pre {\n",
       "  width:max-content;\n",
       "}\n",
       "</style>\n"
      ],
      "text/plain": [
       "<IPython.core.display.HTML object>"
      ]
     },
     "metadata": {},
     "output_type": "display_data"
    }
   ],
   "source": [
    "%%html\n",
    "<style>\n",
    ".output_subarea.output_text.output_stream.output_stdout > pre {\n",
    "  width:max-content;\n",
    "}\n",
    ".p-Widget.jp-RenderedText.jp-OutputArea-output > pre {\n",
    "  width:max-content;\n",
    "}\n",
    "</style>"
   ]
  },
  {
   "cell_type": "code",
   "execution_count": null,
   "id": "5769ceb6",
   "metadata": {},
   "outputs": [],
   "source": [
    "rdd=sc.parallelize([item for item in range(10)]).map(lambda x: (x, x**2))\n",
    "rdd.collect()"
   ]
  },
  {
   "cell_type": "code",
   "execution_count": null,
   "id": "2b44dc03",
   "metadata": {},
   "outputs": [],
   "source": [
    "df= rdd.toDF([\"numero\",\"cuadrado\"])\n",
    "\n",
    "df.printSchema()"
   ]
  },
  {
   "cell_type": "code",
   "execution_count": null,
   "id": "8ab3f195",
   "metadata": {},
   "outputs": [],
   "source": [
    "df.show()"
   ]
  },
  {
   "cell_type": "code",
   "execution_count": null,
   "id": "cf4e3232",
   "metadata": {},
   "outputs": [],
   "source": [
    "rdd1=sc.parallelize([(1, \"Jose\", 35.5),(2,\"Teresa\",54.3),(3,\"Katia\", 12.7)])"
   ]
  },
  {
   "cell_type": "code",
   "execution_count": null,
   "id": "8b36c750",
   "metadata": {},
   "outputs": [],
   "source": [
    "#Via uno\n",
    "\n",
    "esquema1= StructType(\n",
    "    [\n",
    "     StructField(\"id\", IntegerType(), True),\n",
    "     StructField(\"nombre\", StringType(), True),\n",
    "     StructField(\"saldo\", DoubleType(), True),\n",
    "    ]\n",
    ")\n",
    "\n",
    "#Via dos\n",
    "\n",
    "esquema2=\"`id` INT, `nombre` STRING, `saldo` DOUBLE\"\n",
    "\n",
    "df1=spark.createDataFrame(rdd1, schema=esquema1)\n",
    "\n",
    "df1.printSchema()"
   ]
  },
  {
   "cell_type": "code",
   "execution_count": null,
   "id": "10389bd2",
   "metadata": {},
   "outputs": [],
   "source": [
    "df1.show()"
   ]
  },
  {
   "cell_type": "code",
   "execution_count": null,
   "id": "5dc69217",
   "metadata": {},
   "outputs": [],
   "source": [
    "# Crear un DataFrame mediante la lectura de un archivo de texto\n",
    "\n",
    "df = spark.read.text('./data/dataTXT.txt')\n",
    "\n",
    "df.show()\n",
    "\n",
    "df.show(truncate=False)"
   ]
  },
  {
   "cell_type": "code",
   "execution_count": null,
   "id": "e0a458be",
   "metadata": {},
   "outputs": [],
   "source": [
    "# Crear un DataFrame mediante la lectura de un archivo csv\n",
    "\n",
    "df1 = spark.read.csv('./data/dataCSV.csv')\n",
    "\n",
    "df1.show()\n"
   ]
  },
  {
   "cell_type": "code",
   "execution_count": null,
   "id": "740d4334",
   "metadata": {},
   "outputs": [],
   "source": [
    "\n",
    "df1 = spark.read.option('header', 'true').csv('./data/dataCSV.csv')\n",
    "\n",
    "df1.show()"
   ]
  },
  {
   "cell_type": "code",
   "execution_count": null,
   "id": "55bdd92b",
   "metadata": {},
   "outputs": [],
   "source": [
    "\n",
    "df2 = spark.read.option('header', 'true').option('delimiter', '|').csv('./data/dataTab.txt')\n",
    "\n",
    "df2.show()"
   ]
  },
  {
   "cell_type": "code",
   "execution_count": null,
   "id": "fce057ca",
   "metadata": {},
   "outputs": [],
   "source": [
    "from pyspark.sql.types import StructType, StructField, StringType, IntegerType, DateType\n",
    "\n",
    "json_schema =  StructType(\n",
    "    [\n",
    "     StructField('color', StringType(), True),\n",
    "     StructField('edad', IntegerType(), True),\n",
    "     StructField('fecha', DateType(), True),\n",
    "     StructField('pais', StringType(), True)\n",
    "    ]\n",
    ")\n",
    "\n",
    "df4 = spark.read.schema(json_schema).json('./data/dataJSON.json')\n",
    "\n",
    "df4.show()"
   ]
  },
  {
   "cell_type": "code",
   "execution_count": null,
   "id": "f65f347d",
   "metadata": {},
   "outputs": [],
   "source": [
    "df4.printSchema()"
   ]
  },
  {
   "cell_type": "code",
   "execution_count": null,
   "id": "cae608e8",
   "metadata": {},
   "outputs": [],
   "source": [
    "df5 = spark.read.parquet('./data/dataPARQUET.parquet')\n",
    "\n",
    "df5.show()"
   ]
  },
  {
   "cell_type": "code",
   "execution_count": null,
   "id": "6031b160",
   "metadata": {},
   "outputs": [],
   "source": [
    "\n",
    "# Otra alternativa para leer desde una fuente de datos parquet en este caso\n",
    "\n",
    "df6 = spark.read.format('parquet').load('./data/dataPARQUET.parquet')\n",
    "\n",
    "df6.printSchema()"
   ]
  },
  {
   "cell_type": "code",
   "execution_count": null,
   "id": "1d1ebc21",
   "metadata": {},
   "outputs": [],
   "source": [
    "df = spark.read.parquet('./data/dataPARQUET.parquet')\n",
    "\n",
    "df.printSchema()\n"
   ]
  },
  {
   "cell_type": "code",
   "execution_count": null,
   "id": "9cfc7e5e",
   "metadata": {},
   "outputs": [],
   "source": [
    "# Primera alternativa para referirnos a las columnas\n",
    "\n",
    "df.select('title').show()"
   ]
  },
  {
   "cell_type": "code",
   "execution_count": null,
   "id": "5dd7384b",
   "metadata": {},
   "outputs": [],
   "source": [
    "\n",
    "df.select(col('title'), col('likes')).show()\n"
   ]
  },
  {
   "cell_type": "code",
   "execution_count": null,
   "id": "1f8796cd",
   "metadata": {},
   "outputs": [],
   "source": [
    "# select\n",
    "\n",
    "df = spark.read.parquet('./data/datos.parquet')\n",
    "\n",
    "df.printSchema()"
   ]
  },
  {
   "cell_type": "code",
   "execution_count": null,
   "id": "d98b2a26",
   "metadata": {},
   "outputs": [],
   "source": [
    "from pyspark.sql.functions import col\n",
    "\n",
    "df.select(col('video_id')).show()\n"
   ]
  },
  {
   "cell_type": "code",
   "execution_count": null,
   "id": "48b68b8d",
   "metadata": {},
   "outputs": [],
   "source": [
    "df.select('video_id', 'trending_date').show()"
   ]
  },
  {
   "cell_type": "code",
   "execution_count": null,
   "id": "e1203bf4",
   "metadata": {},
   "outputs": [],
   "source": [
    "# Esta vía nos dará error\n",
    "\n",
    "df.select(\n",
    "    'likes',\n",
    "    'dislikes',\n",
    "    ('likes' - 'dislikes')\n",
    ").show()"
   ]
  },
  {
   "cell_type": "code",
   "execution_count": null,
   "id": "3abc571e",
   "metadata": {},
   "outputs": [],
   "source": [
    "df.select(\n",
    "    col('likes'),\n",
    "    col('dislikes'),\n",
    "    (col('likes') - col('dislikes')).alias('aceptacion')\n",
    ").show()\n"
   ]
  },
  {
   "cell_type": "code",
   "execution_count": null,
   "id": "4b7d1b69",
   "metadata": {},
   "outputs": [],
   "source": [
    "# selectExpr\n",
    "df.selectExpr('likes', 'dislikes', '(likes - dislikes) as aceptacion').show()"
   ]
  },
  {
   "cell_type": "code",
   "execution_count": null,
   "id": "c652ed5d",
   "metadata": {},
   "outputs": [],
   "source": [
    "df.selectExpr(\"count(distinct(video_id)) as videos\").show()"
   ]
  },
  {
   "cell_type": "code",
   "execution_count": null,
   "id": "c15ae1e7",
   "metadata": {},
   "outputs": [],
   "source": [
    "df_prueba = spark.read.parquet('./data/datos.parquet')\n",
    "df_prueba2=df_prueba.select('title').filter(col('title').like('%WE WANT TO TALK%'))\n",
    "df_prueba2.show()"
   ]
  },
  {
   "cell_type": "code",
   "execution_count": null,
   "id": "1a490452",
   "metadata": {
    "scrolled": true,
    "tags": []
   },
   "outputs": [],
   "source": [
    "#Filter\n",
    "df = spark.read.parquet('./data/datos.parquet')\n",
    "df.show( )\n",
    "\n"
   ]
  },
  {
   "cell_type": "code",
   "execution_count": null,
   "id": "db715c63",
   "metadata": {
    "slideshow": {
     "slide_type": "-"
    }
   },
   "outputs": [],
   "source": [
    "df.filter(col('video_id') == \"2kyS6SvSYSE\").show()"
   ]
  },
  {
   "cell_type": "code",
   "execution_count": null,
   "id": "451c5af4-be0f-407d-95d4-980c2c2fc4d3",
   "metadata": {},
   "outputs": [],
   "source": [
    "#Where\n",
    "df1 = spark.read.parquet('./data/datos.parquet').where(col(\"trending_date\") != '17.14.11')"
   ]
  },
  {
   "cell_type": "code",
   "execution_count": null,
   "id": "04578e5c-46c2-4cf9-b8f0-b446ad0f8343",
   "metadata": {},
   "outputs": [],
   "source": [
    "df1.show()"
   ]
  },
  {
   "cell_type": "code",
   "execution_count": null,
   "id": "c58f76e1-ab4f-48d7-8763-f598e4da9d36",
   "metadata": {},
   "outputs": [],
   "source": [
    "df2=spark.read.parquet('./data/datos.parquet').where(col(\"likes\")>5000)"
   ]
  },
  {
   "cell_type": "code",
   "execution_count": null,
   "id": "17d8c8fe-93da-457b-9995-7b5f954ffd96",
   "metadata": {},
   "outputs": [],
   "source": [
    "df2.filter(col(\"trending_date\") != '17.14.11').filter(col(\"likes\")<7000)"
   ]
  },
  {
   "cell_type": "code",
   "execution_count": null,
   "id": "f958d6bd-64b6-4e46-bfc9-57881874b228",
   "metadata": {},
   "outputs": [],
   "source": [
    "#distinc\n",
    "df = spark.read.parquet('./data/datos.parquet')\n",
    "df_duplicados=df.distinct()"
   ]
  },
  {
   "cell_type": "code",
   "execution_count": null,
   "id": "eca549bf-c14d-45c8-b72c-7bbc2f4d01d2",
   "metadata": {},
   "outputs": [],
   "source": [
    "print(\"El conteo del dataframe original es {}\".format(df.count()))\n",
    "print(\"El conteo del dataframe original es {}\".format(df_duplicados.count()))\n"
   ]
  },
  {
   "cell_type": "code",
   "execution_count": null,
   "id": "6b157f39-fee0-404e-9f62-da7475ecba09",
   "metadata": {},
   "outputs": [],
   "source": [
    "#dropDuplicate (se le puede indicar cual columnas debe tomar para eliminar los duplicados)\n",
    "\n",
    "dataframe = spark.createDataFrame([(1, 'azul', 567), (2, 'rojo', 487), (1, 'azul', 345), (2, 'verde', 783)]).toDF('id', 'color', 'importe')\n",
    "\n",
    "dataframe.show()"
   ]
  },
  {
   "cell_type": "code",
   "execution_count": null,
   "id": "6c3661d5-fee0-47fe-a56d-62818960eecb",
   "metadata": {},
   "outputs": [],
   "source": [
    "dataframe.dropDuplicates(['id', 'color']).show()"
   ]
  },
  {
   "cell_type": "code",
   "execution_count": null,
   "id": "5dae671d-d1a5-4cde-9ce1-e0f045c449df",
   "metadata": {},
   "outputs": [],
   "source": [
    "df = (spark.read.parquet('./data/datos.parquet')\n",
    "    .select(col('likes'), col('views'), col('video_id'), col('dislikes'))\n",
    "    .dropDuplicates(['video_id'])\n",
    ")\n",
    "\n",
    "df.show()"
   ]
  },
  {
   "cell_type": "code",
   "execution_count": null,
   "id": "2709a06e-6ea3-41a0-ac7f-9468bc3899c0",
   "metadata": {},
   "outputs": [],
   "source": [
    "#sort\n",
    "df.sort('likes').show()"
   ]
  },
  {
   "cell_type": "code",
   "execution_count": null,
   "id": "e8501fb0-3d15-4348-8b2a-cfe4b7a3c126",
   "metadata": {},
   "outputs": [],
   "source": [
    "from pyspark.sql.functions import desc\n",
    "\n",
    "df.sort(desc('likes')).show()"
   ]
  },
  {
   "cell_type": "code",
   "execution_count": null,
   "id": "90f6e021-aee1-4e57-99eb-2907d9260634",
   "metadata": {},
   "outputs": [],
   "source": [
    "# función orderBy\n",
    "\n",
    "df.orderBy(col('views')).show()df.orderBy(col('views').desc()).show()"
   ]
  },
  {
   "cell_type": "code",
   "execution_count": null,
   "id": "f1be6b8a-bf7d-43d3-9971-d8f6d211c304",
   "metadata": {},
   "outputs": [],
   "source": [
    "df.orderBy(col('views').desc()).show()"
   ]
  },
  {
   "cell_type": "code",
   "execution_count": 15,
   "id": "d7e823bf-d123-43ea-a394-369cff1ee3a8",
   "metadata": {},
   "outputs": [
    {
     "name": "stdout",
     "output_type": "stream",
     "text": [
      "+---+-----+-------+\n",
      "| id|color|importe|\n",
      "+---+-----+-------+\n",
      "|  1| azul|    568|\n",
      "|  2| rojo|    235|\n",
      "|  1| azul|    456|\n",
      "|  2| azul|    783|\n",
      "+---+-----+-------+\n",
      "\n"
     ]
    }
   ],
   "source": [
    "dataframe = spark.createDataFrame([(1, 'azul', 568), (2, 'rojo', 235), (1, 'azul', 456), (2, 'azul', 783)]).toDF('id', 'color', 'importe')\n",
    "\n",
    "dataframe.show()"
   ]
  },
  {
   "cell_type": "code",
   "execution_count": 20,
   "id": "f2dde84d-a0e0-4b3e-80c3-8246eecd1232",
   "metadata": {},
   "outputs": [
    {
     "name": "stdout",
     "output_type": "stream",
     "text": [
      "+---+-----+-------+\n",
      "| id|color|importe|\n",
      "+---+-----+-------+\n",
      "|  2| rojo|    235|\n",
      "|  1| azul|    456|\n",
      "|  1| azul|    568|\n",
      "|  2| azul|    783|\n",
      "+---+-----+-------+\n",
      "\n"
     ]
    }
   ],
   "source": [
    "#primero ordena por colores en orden alfabetico, y los que son azules (iguales) los ordena por el importe\n",
    "dataframe.orderBy(col('color').desc(), col('importe')).show()"
   ]
  },
  {
   "cell_type": "code",
   "execution_count": 30,
   "id": "1568db0c-84bf-407b-9d12-bac274825134",
   "metadata": {},
   "outputs": [
    {
     "name": "stdout",
     "output_type": "stream",
     "text": [
      "+-------+--------+-----------+--------+\n",
      "|  likes|   views|   video_id|dislikes|\n",
      "+-------+--------+-----------+--------+\n",
      "| 609101|48431654|-BQJo3vK8O8|   52259|\n",
      "|3880071|39349927|7C2z4GqqS5E|   72707|\n",
      "|1111592|38873543|i0p1bmr0EmE|   96407|\n",
      "|1735895|37736281|6ZfuNTqbHE8|   21969|\n",
      "|1634124|33523622|2Vv-BfVoq4g|   21082|\n",
      "|1405355|31648454|VYOjWnS4cMY|   51547|\n",
      "| 850362|27973210|u9Mv98Gr5pY|   26541|\n",
      "|1149185|24782158|FlsCjmMhFmw|  483924|\n",
      "| 641546|24421448|U9BwWKXjVaI|   16517|\n",
      "| 587326|23758250|1J76wN0TPI4|   18799|\n",
      "+-------+--------+-----------+--------+\n",
      "\n"
     ]
    }
   ],
   "source": [
    "# funcion limit \n",
    "\n",
    "top_10 = df.orderBy(col('views').desc()).limit(10)\n",
    "\n",
    "top_10.show()"
   ]
  },
  {
   "cell_type": "code",
   "execution_count": 5,
   "id": "2c0a93ef-de32-49de-b6d9-1d07944a23ee",
   "metadata": {},
   "outputs": [],
   "source": [
    "# withColumn\n",
    "df = spark.read.parquet('./data/datos.parquet')\n"
   ]
  },
  {
   "cell_type": "code",
   "execution_count": 6,
   "id": "eec41d8d-0921-4248-9b3b-32c67759fcf1",
   "metadata": {},
   "outputs": [
    {
     "name": "stdout",
     "output_type": "stream",
     "text": [
      "root\n",
      " |-- video_id: string (nullable = true)\n",
      " |-- trending_date: string (nullable = true)\n",
      " |-- title: string (nullable = true)\n",
      " |-- channel_title: string (nullable = true)\n",
      " |-- category_id: string (nullable = true)\n",
      " |-- publish_time: timestamp (nullable = true)\n",
      " |-- tags: string (nullable = true)\n",
      " |-- views: integer (nullable = true)\n",
      " |-- likes: integer (nullable = true)\n",
      " |-- dislikes: integer (nullable = true)\n",
      " |-- comment_count: integer (nullable = true)\n",
      " |-- thumbnail_link: string (nullable = true)\n",
      " |-- comments_disabled: string (nullable = true)\n",
      " |-- ratings_disabled: string (nullable = true)\n",
      " |-- video_error_or_removed: string (nullable = true)\n",
      " |-- description: string (nullable = true)\n",
      " |-- valoracion: integer (nullable = true)\n",
      "\n"
     ]
    }
   ],
   "source": [
    "df_valoracion = df.withColumn('valoracion', col('likes') - col('dislikes'))\n",
    "\n",
    "df_valoracion.printSchema()"
   ]
  },
  {
   "cell_type": "code",
   "execution_count": 7,
   "id": "8aa102c6-f2a1-4e5f-8710-2129aad71b3a",
   "metadata": {},
   "outputs": [
    {
     "name": "stdout",
     "output_type": "stream",
     "text": [
      "root\n",
      " |-- video_id: string (nullable = true)\n",
      " |-- trending_date: string (nullable = true)\n",
      " |-- title: string (nullable = true)\n",
      " |-- channel_title: string (nullable = true)\n",
      " |-- category_id: string (nullable = true)\n",
      " |-- publish_time: timestamp (nullable = true)\n",
      " |-- tags: string (nullable = true)\n",
      " |-- views: integer (nullable = true)\n",
      " |-- likes: integer (nullable = true)\n",
      " |-- dislikes: integer (nullable = true)\n",
      " |-- comment_count: integer (nullable = true)\n",
      " |-- thumbnail_link: string (nullable = true)\n",
      " |-- comments_disabled: string (nullable = true)\n",
      " |-- ratings_disabled: string (nullable = true)\n",
      " |-- video_error_or_removed: string (nullable = true)\n",
      " |-- description: string (nullable = true)\n",
      " |-- valoracion: integer (nullable = true)\n",
      " |-- res_div: integer (nullable = true)\n",
      "\n"
     ]
    }
   ],
   "source": [
    "df_valoracion1 = (df.withColumn('valoracion', col('likes') - col('dislikes'))\n",
    "                    .withColumn('res_div', col('valoracion') % 10)\n",
    ")\n",
    "\n",
    "df_valoracion1.printSchema()"
   ]
  },
  {
   "cell_type": "code",
   "execution_count": 8,
   "id": "388c2d6a-6037-4e3c-93b9-e3d52c0cf95a",
   "metadata": {},
   "outputs": [
    {
     "name": "stdout",
     "output_type": "stream",
     "text": [
      "+------+--------+----------+-------+\n",
      "| likes|dislikes|valoracion|res_div|\n",
      "+------+--------+----------+-------+\n",
      "| 57527|    2966|     54561|      1|\n",
      "| 97185|    6146|     91039|      9|\n",
      "|146033|    5339|    140694|      4|\n",
      "| 10172|     666|      9506|      6|\n",
      "|132235|    1989|    130246|      6|\n",
      "|  9763|     511|      9252|      2|\n",
      "| 15993|    2445|     13548|      8|\n",
      "| 23663|     778|     22885|      5|\n",
      "|  3543|     119|      3424|      4|\n",
      "| 12654|    1363|     11291|      1|\n",
      "|   655|      25|       630|      0|\n",
      "|  1576|     303|      1273|      3|\n",
      "|114188|    1333|    112855|      5|\n",
      "|  7848|    1171|      6677|      7|\n",
      "|  7473|     246|      7227|      7|\n",
      "|  9419|      52|      9367|      7|\n",
      "|  8011|     638|      7373|      3|\n",
      "|  5398|      53|      5345|      5|\n",
      "| 11963|      36|     11927|      7|\n",
      "|  8421|     191|      8230|      0|\n",
      "+------+--------+----------+-------+\n",
      "only showing top 20 rows\n",
      "\n"
     ]
    }
   ],
   "source": [
    "df_valoracion1.select(col('likes'), col('dislikes'), col('valoracion'), col('res_div')).show()\n"
   ]
  },
  {
   "cell_type": "code",
   "execution_count": 9,
   "id": "db7b39df-cbda-4e9d-bcf3-7ac2f88e37d4",
   "metadata": {},
   "outputs": [
    {
     "name": "stdout",
     "output_type": "stream",
     "text": [
      "root\n",
      " |-- id: string (nullable = true)\n",
      " |-- trending_date: string (nullable = true)\n",
      " |-- title: string (nullable = true)\n",
      " |-- channel_title: string (nullable = true)\n",
      " |-- category_id: string (nullable = true)\n",
      " |-- publish_time: timestamp (nullable = true)\n",
      " |-- tags: string (nullable = true)\n",
      " |-- views: integer (nullable = true)\n",
      " |-- likes: integer (nullable = true)\n",
      " |-- dislikes: integer (nullable = true)\n",
      " |-- comment_count: integer (nullable = true)\n",
      " |-- thumbnail_link: string (nullable = true)\n",
      " |-- comments_disabled: string (nullable = true)\n",
      " |-- ratings_disabled: string (nullable = true)\n",
      " |-- video_error_or_removed: string (nullable = true)\n",
      " |-- description: string (nullable = true)\n",
      "\n"
     ]
    }
   ],
   "source": [
    "# withColumnRenamed\n",
    "\n",
    "df_renombrado = df.withColumnRenamed('video_id', 'id')\n",
    "\n",
    "df_renombrado.printSchema()"
   ]
  },
  {
   "cell_type": "code",
   "execution_count": 10,
   "id": "02f850d0-b21b-45d0-a65f-07d20f39a350",
   "metadata": {},
   "outputs": [
    {
     "name": "stdout",
     "output_type": "stream",
     "text": [
      "root\n",
      " |-- video_id: string (nullable = true)\n",
      " |-- trending_date: string (nullable = true)\n",
      " |-- title: string (nullable = true)\n",
      " |-- channel_title: string (nullable = true)\n",
      " |-- category_id: string (nullable = true)\n",
      " |-- publish_time: timestamp (nullable = true)\n",
      " |-- tags: string (nullable = true)\n",
      " |-- views: integer (nullable = true)\n",
      " |-- likes: integer (nullable = true)\n",
      " |-- dislikes: integer (nullable = true)\n",
      " |-- comment_count: integer (nullable = true)\n",
      " |-- thumbnail_link: string (nullable = true)\n",
      " |-- comments_disabled: string (nullable = true)\n",
      " |-- ratings_disabled: string (nullable = true)\n",
      " |-- video_error_or_removed: string (nullable = true)\n",
      " |-- description: string (nullable = true)\n",
      "\n"
     ]
    }
   ],
   "source": [
    "\n",
    "df_error = df.withColumnRenamed('nombre_que_no_existe', 'otro_nombre')\n",
    "\n",
    "df_error.printSchema()# drop\n",
    "\n",
    "df.printSchema()\n",
    "\n",
    "df_util = df.drop('comments_disabled')\n",
    "\n",
    "df_util.printSchema()"
   ]
  },
  {
   "cell_type": "code",
   "execution_count": 11,
   "id": "9dbe71a6-925e-4dae-90af-8ba11ebb2f78",
   "metadata": {},
   "outputs": [
    {
     "name": "stdout",
     "output_type": "stream",
     "text": [
      "root\n",
      " |-- video_id: string (nullable = true)\n",
      " |-- trending_date: string (nullable = true)\n",
      " |-- title: string (nullable = true)\n",
      " |-- channel_title: string (nullable = true)\n",
      " |-- category_id: string (nullable = true)\n",
      " |-- publish_time: timestamp (nullable = true)\n",
      " |-- tags: string (nullable = true)\n",
      " |-- views: integer (nullable = true)\n",
      " |-- likes: integer (nullable = true)\n",
      " |-- dislikes: integer (nullable = true)\n",
      " |-- comment_count: integer (nullable = true)\n",
      " |-- thumbnail_link: string (nullable = true)\n",
      " |-- comments_disabled: string (nullable = true)\n",
      " |-- ratings_disabled: string (nullable = true)\n",
      " |-- video_error_or_removed: string (nullable = true)\n",
      " |-- description: string (nullable = true)\n",
      "\n",
      "root\n",
      " |-- video_id: string (nullable = true)\n",
      " |-- trending_date: string (nullable = true)\n",
      " |-- title: string (nullable = true)\n",
      " |-- channel_title: string (nullable = true)\n",
      " |-- category_id: string (nullable = true)\n",
      " |-- publish_time: timestamp (nullable = true)\n",
      " |-- tags: string (nullable = true)\n",
      " |-- views: integer (nullable = true)\n",
      " |-- likes: integer (nullable = true)\n",
      " |-- dislikes: integer (nullable = true)\n",
      " |-- comment_count: integer (nullable = true)\n",
      " |-- thumbnail_link: string (nullable = true)\n",
      " |-- ratings_disabled: string (nullable = true)\n",
      " |-- video_error_or_removed: string (nullable = true)\n",
      " |-- description: string (nullable = true)\n",
      "\n"
     ]
    }
   ],
   "source": [
    "# drop\n",
    "\n",
    "df.printSchema()\n",
    "\n",
    "df_util = df.drop('comments_disabled')\n",
    "\n",
    "df_util.printSchema()"
   ]
  },
  {
   "cell_type": "code",
   "execution_count": 12,
   "id": "73b8c2e4-b9ae-46b5-8696-b932b2a15f9b",
   "metadata": {},
   "outputs": [
    {
     "name": "stdout",
     "output_type": "stream",
     "text": [
      "root\n",
      " |-- video_id: string (nullable = true)\n",
      " |-- trending_date: string (nullable = true)\n",
      " |-- title: string (nullable = true)\n",
      " |-- channel_title: string (nullable = true)\n",
      " |-- category_id: string (nullable = true)\n",
      " |-- publish_time: timestamp (nullable = true)\n",
      " |-- tags: string (nullable = true)\n",
      " |-- views: integer (nullable = true)\n",
      " |-- likes: integer (nullable = true)\n",
      " |-- dislikes: integer (nullable = true)\n",
      " |-- comment_count: integer (nullable = true)\n",
      " |-- video_error_or_removed: string (nullable = true)\n",
      " |-- description: string (nullable = true)\n",
      "\n"
     ]
    }
   ],
   "source": [
    "df_util = df.drop('comments_disabled', 'ratings_disabled', 'thumbnail_link')\n",
    "\n",
    "df_util.printSchema()"
   ]
  },
  {
   "cell_type": "code",
   "execution_count": 13,
   "id": "ee68c07c-475e-40eb-ad1e-43014d179d2d",
   "metadata": {},
   "outputs": [
    {
     "name": "stdout",
     "output_type": "stream",
     "text": [
      "root\n",
      " |-- video_id: string (nullable = true)\n",
      " |-- trending_date: string (nullable = true)\n",
      " |-- title: string (nullable = true)\n",
      " |-- channel_title: string (nullable = true)\n",
      " |-- category_id: string (nullable = true)\n",
      " |-- publish_time: timestamp (nullable = true)\n",
      " |-- tags: string (nullable = true)\n",
      " |-- views: integer (nullable = true)\n",
      " |-- likes: integer (nullable = true)\n",
      " |-- dislikes: integer (nullable = true)\n",
      " |-- comment_count: integer (nullable = true)\n",
      " |-- video_error_or_removed: string (nullable = true)\n",
      " |-- description: string (nullable = true)\n",
      "\n"
     ]
    }
   ],
   "source": [
    "\n",
    "df_util = df.drop('comments_disabled', 'ratings_disabled', 'thumbnail_link', 'cafe')\n",
    "\n",
    "df_util.printSchema()"
   ]
  },
  {
   "cell_type": "code",
   "execution_count": 14,
   "id": "5e5454ed-93c5-48e2-b7d6-4daa7b0ffc60",
   "metadata": {},
   "outputs": [
    {
     "name": "stdout",
     "output_type": "stream",
     "text": [
      "El 80% de filas del dataframe original es 38509.6\n",
      "El numero de filas del dataframe muestra es 38579\n"
     ]
    }
   ],
   "source": [
    "# sample\n",
    "\n",
    "df_muestra = df.sample(0.8)\n",
    "\n",
    "num_filas = df.count()\n",
    "num_filas_muestra = df_muestra.count()\n",
    "\n",
    "print('El 80% de filas del dataframe original es {}'.format(num_filas - (num_filas*0.2)))\n",
    "print('El numero de filas del dataframe muestra es {}'.format(num_filas_muestra))\n"
   ]
  },
  {
   "cell_type": "code",
   "execution_count": 15,
   "id": "9452725b-04c3-4f29-881f-be44da1782cc",
   "metadata": {},
   "outputs": [],
   "source": [
    "df_muestra = df.sample(fraction=0.8, seed=1234)\n",
    "\n",
    "df_muestra = df.sample(withReplacement=True, fraction=0.8, seed=1234)"
   ]
  },
  {
   "cell_type": "code",
   "execution_count": 16,
   "id": "e6d33746-f303-4cb5-bcc3-e1048ccf340e",
   "metadata": {},
   "outputs": [
    {
     "data": {
      "text/plain": [
       "9595"
      ]
     },
     "execution_count": 16,
     "metadata": {},
     "output_type": "execute_result"
    }
   ],
   "source": [
    "# randomSplit\n",
    "\n",
    "train, test = df.randomSplit([0.8, 0.2], seed=1234)\n",
    "\n",
    "train, validation, test = df.randomSplit([0.6, 0.2, 0.2], seed=1234)\n",
    "\n",
    "train.count()\n",
    "\n",
    "validation.count()\n",
    "\n",
    "test.count()"
   ]
  }
 ],
 "metadata": {
  "kernelspec": {
   "display_name": "Python 3 (ipykernel)",
   "language": "python",
   "name": "python3"
  },
  "language_info": {
   "codemirror_mode": {
    "name": "ipython",
    "version": 3
   },
   "file_extension": ".py",
   "mimetype": "text/x-python",
   "name": "python",
   "nbconvert_exporter": "python",
   "pygments_lexer": "ipython3",
   "version": "3.10.9"
  }
 },
 "nbformat": 4,
 "nbformat_minor": 5
}
