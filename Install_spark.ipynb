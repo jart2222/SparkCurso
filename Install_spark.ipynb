{
  "nbformat": 4,
  "nbformat_minor": 0,
  "metadata": {
    "colab": {
      "provenance": [],
      "collapsed_sections": [
        "JLjjf8gMcxn-"
      ],
      "toc_visible": true
    },
    "kernelspec": {
      "name": "python3",
      "display_name": "Python 3"
    },
    "language_info": {
      "name": "python"
    }
  },
  "cells": [
    {
      "cell_type": "markdown",
      "source": [
        "# Instalacion Spark"
      ],
      "metadata": {
        "id": "_WOd8VNNdGEs"
      }
    },
    {
      "cell_type": "code",
      "execution_count": null,
      "metadata": {
        "id": "Bu-nLnqVYmbN"
      },
      "outputs": [],
      "source": [
        "!apt-get install openjdk-8-jdk-headless -qq > /dev/null\n",
        "!wget -q http://archive.apache.org/dist/spark/spark-3.1.1/spark-3.1.1-bin-hadoop3.2.tgz\n",
        "!tar xf spark-3.1.1-bin-hadoop3.2.tgz\n",
        "!pip install -q findspark"
      ]
    },
    {
      "cell_type": "code",
      "source": [
        "!pip install -q pyspark"
      ],
      "metadata": {
        "colab": {
          "base_uri": "https://localhost:8080/"
        },
        "id": "w2Di3b_6ZYTK",
        "outputId": "ca91151b-ffbf-423f-ade5-0faed25a0552"
      },
      "execution_count": null,
      "outputs": [
        {
          "output_type": "stream",
          "name": "stdout",
          "text": [
            "\u001b[2K     \u001b[90m━━━━━━━━━━━━━━━━━━━━━━━━━━━━━━━━━━━━━━━\u001b[0m \u001b[32m281.4/281.4 MB\u001b[0m \u001b[31m4.9 MB/s\u001b[0m eta \u001b[36m0:00:00\u001b[0m\n",
            "\u001b[?25h  Preparing metadata (setup.py) ... \u001b[?25l\u001b[?25hdone\n",
            "\u001b[2K     \u001b[90m━━━━━━━━━━━━━━━━━━━━━━━━━━━━━━━━━━━━━━\u001b[0m \u001b[32m199.7/199.7 KB\u001b[0m \u001b[31m13.8 MB/s\u001b[0m eta \u001b[36m0:00:00\u001b[0m\n",
            "\u001b[?25h  Building wheel for pyspark (setup.py) ... \u001b[?25l\u001b[?25hdone\n"
          ]
        }
      ]
    },
    {
      "cell_type": "code",
      "source": [
        "#Verificar instalacion \n",
        "import findspark\n",
        "findspark.init()\n",
        "from pyspark.sql import SparkSession\n",
        "spark = SparkSession.builder.master(\"local[*]\").getOrCreate()\n",
        "spark.conf.set(\"spark.sql.repl.eagerEval.enabled\", True) # Property used to format output tables better\n",
        "spark"
      ],
      "metadata": {
        "colab": {
          "base_uri": "https://localhost:8080/",
          "height": 219
        },
        "id": "6eKT1fomZpZt",
        "outputId": "41264669-45bd-4cc1-ee32-a7bc65ec2ad6"
      },
      "execution_count": null,
      "outputs": [
        {
          "output_type": "execute_result",
          "data": {
            "text/plain": [
              "<pyspark.sql.session.SparkSession at 0x7fb8fc0d8250>"
            ],
            "text/html": [
              "\n",
              "            <div>\n",
              "                <p><b>SparkSession - in-memory</b></p>\n",
              "                \n",
              "        <div>\n",
              "            <p><b>SparkContext</b></p>\n",
              "\n",
              "            <p><a href=\"http://be74df32a08e:4040\">Spark UI</a></p>\n",
              "\n",
              "            <dl>\n",
              "              <dt>Version</dt>\n",
              "                <dd><code>v3.3.2</code></dd>\n",
              "              <dt>Master</dt>\n",
              "                <dd><code>local[*]</code></dd>\n",
              "              <dt>AppName</dt>\n",
              "                <dd><code>pyspark-shell</code></dd>\n",
              "            </dl>\n",
              "        </div>\n",
              "        \n",
              "            </div>\n",
              "        "
            ]
          },
          "metadata": {},
          "execution_count": 4
        }
      ]
    },
    {
      "cell_type": "code",
      "source": [
        "#Probar la sesion de spark\n",
        "\n",
        "df= spark.createDataFrame([{\"Hola\": \"Mundo\"} for x in range(10)])\n",
        "df.show()"
      ],
      "metadata": {
        "colab": {
          "base_uri": "https://localhost:8080/"
        },
        "id": "-iwSNEEqZ9un",
        "outputId": "0aadf4c4-6948-4d5d-d755-fdd4a4f992d3"
      },
      "execution_count": null,
      "outputs": [
        {
          "output_type": "stream",
          "name": "stdout",
          "text": [
            "+-----+\n",
            "| Hola|\n",
            "+-----+\n",
            "|Mundo|\n",
            "|Mundo|\n",
            "|Mundo|\n",
            "|Mundo|\n",
            "|Mundo|\n",
            "|Mundo|\n",
            "|Mundo|\n",
            "|Mundo|\n",
            "|Mundo|\n",
            "|Mundo|\n",
            "+-----+\n",
            "\n"
          ]
        }
      ]
    },
    {
      "cell_type": "markdown",
      "source": [
        "# SparkSesion\n"
      ],
      "metadata": {
        "id": "JLjjf8gMcxn-"
      }
    },
    {
      "cell_type": "code",
      "source": [
        "import findspark\n",
        "findspark.init()\n",
        "\n",
        "from pyspark.sql import SparkSession\n",
        "spark=SparkSession.builder.master(\"local[*]\").appName('Curso Pyspark').getOrCreate()\n",
        "spark"
      ],
      "metadata": {
        "colab": {
          "base_uri": "https://localhost:8080/",
          "height": 219
        },
        "id": "wr9vkvjmc3sE",
        "outputId": "06b83e98-c2c3-4cf5-d878-655b759edd5b"
      },
      "execution_count": null,
      "outputs": [
        {
          "output_type": "execute_result",
          "data": {
            "text/plain": [
              "<pyspark.sql.session.SparkSession at 0x7fe886bc7580>"
            ],
            "text/html": [
              "\n",
              "            <div>\n",
              "                <p><b>SparkSession - in-memory</b></p>\n",
              "                \n",
              "        <div>\n",
              "            <p><b>SparkContext</b></p>\n",
              "\n",
              "            <p><a href=\"http://86e9068a336d:4040\">Spark UI</a></p>\n",
              "\n",
              "            <dl>\n",
              "              <dt>Version</dt>\n",
              "                <dd><code>v3.3.2</code></dd>\n",
              "              <dt>Master</dt>\n",
              "                <dd><code>local[*]</code></dd>\n",
              "              <dt>AppName</dt>\n",
              "                <dd><code>pyspark-shell</code></dd>\n",
              "            </dl>\n",
              "        </div>\n",
              "        \n",
              "            </div>\n",
              "        "
            ]
          },
          "metadata": {},
          "execution_count": 12
        }
      ]
    },
    {
      "cell_type": "markdown",
      "source": [
        "# RRD\n"
      ],
      "metadata": {
        "id": "hxTb2uV7m1L_"
      }
    },
    {
      "cell_type": "code",
      "source": [
        "import findspark\n",
        "findspark.init()\n",
        "\n",
        "from pyspark.sql import SparkSession\n",
        "spark=SparkSession.builder.getOrCreate()\n",
        "\n",
        "sc= spark.sparkContext"
      ],
      "metadata": {
        "id": "OXMKIMA1mzbP"
      },
      "execution_count": null,
      "outputs": []
    },
    {
      "cell_type": "code",
      "source": [
        "#crear RDD vacio \n",
        "\n",
        "rddVacio=sc.emptyRDD"
      ],
      "metadata": {
        "id": "U-336LOLn_NX"
      },
      "execution_count": null,
      "outputs": []
    },
    {
      "cell_type": "code",
      "source": [
        "#Crear un RDD con parallelize \n",
        "\n",
        "rdd_vacio3= sc.parallelize([], 3)\n",
        "rdd_vacio3.getNumPartitions"
      ],
      "metadata": {
        "colab": {
          "base_uri": "https://localhost:8080/"
        },
        "id": "1NURQaHXpdin",
        "outputId": "83ef740f-6599-4f26-8e3d-4045eb8cfcf8"
      },
      "execution_count": null,
      "outputs": [
        {
          "output_type": "execute_result",
          "data": {
            "text/plain": [
              "<bound method RDD.getNumPartitions of ParallelCollectionRDD[9] at readRDDFromFile at PythonRDD.scala:274>"
            ]
          },
          "metadata": {},
          "execution_count": 16
        }
      ]
    },
    {
      "cell_type": "code",
      "source": [
        "rdd=sc.parallelize([1,2,3,4,5])\n",
        "rdd.collect()"
      ],
      "metadata": {
        "colab": {
          "base_uri": "https://localhost:8080/"
        },
        "id": "0mGsARPSp6wB",
        "outputId": "3ef9e6a3-96ab-44cf-a90a-9dbbe2e7ff8a"
      },
      "execution_count": null,
      "outputs": [
        {
          "output_type": "execute_result",
          "data": {
            "text/plain": [
              "[1, 2, 3, 4, 5]"
            ]
          },
          "metadata": {},
          "execution_count": 19
        }
      ]
    },
    {
      "cell_type": "code",
      "source": [
        "#Crear un RDD desde un archivo de texto\n",
        "\n",
        "rdd_texto= sc.textFile('./rdd_source.txt')\n",
        "rdd_texto.collect()"
      ],
      "metadata": {
        "colab": {
          "base_uri": "https://localhost:8080/"
        },
        "id": "uwLV5zJCrs0r",
        "outputId": "1bc66778-57ae-41e2-e875-791afa0b5daa"
      },
      "execution_count": null,
      "outputs": [
        {
          "output_type": "execute_result",
          "data": {
            "text/plain": [
              "['Asi podemos ', 'crear un RDD desde ', 'un archivo de texto!!']"
            ]
          },
          "metadata": {},
          "execution_count": 25
        }
      ]
    },
    {
      "cell_type": "code",
      "source": [
        "rdd_texto_completo= sc.wholeTextFiles('./rdd_source.txt')\n",
        "rdd_texto_completo.collect()"
      ],
      "metadata": {
        "colab": {
          "base_uri": "https://localhost:8080/"
        },
        "id": "P4QkAtgOuO2i",
        "outputId": "3c134a78-9f61-4963-ffcb-320572d10b07"
      },
      "execution_count": null,
      "outputs": [
        {
          "output_type": "execute_result",
          "data": {
            "text/plain": [
              "[('file:/content/rdd_source.txt',\n",
              "  'Asi podemos \\r\\ncrear un RDD desde \\r\\nun archivo de texto!!\\r\\n')]"
            ]
          },
          "metadata": {},
          "execution_count": 26
        }
      ]
    },
    {
      "cell_type": "code",
      "source": [
        "rdd_suma= rdd.map(lambda x: x+1)\n",
        "rdd_suma.collect()"
      ],
      "metadata": {
        "colab": {
          "base_uri": "https://localhost:8080/"
        },
        "id": "Gwhzb1-MudIp",
        "outputId": "22d93234-30f5-4e91-e8fa-96892dc03732"
      },
      "execution_count": null,
      "outputs": [
        {
          "output_type": "execute_result",
          "data": {
            "text/plain": [
              "[2, 3, 4, 5, 6]"
            ]
          },
          "metadata": {},
          "execution_count": 27
        }
      ]
    },
    {
      "cell_type": "code",
      "source": [
        "df= spark.createDataFrame([(1, 'jose'), (2,'juan')],['id', 'nombre'])\n",
        "df.show()"
      ],
      "metadata": {
        "colab": {
          "base_uri": "https://localhost:8080/"
        },
        "id": "mk7jpCmTusS5",
        "outputId": "015e94b1-848f-468f-dbf3-a106f45bc0d9"
      },
      "execution_count": null,
      "outputs": [
        {
          "output_type": "stream",
          "name": "stdout",
          "text": [
            "+---+------+\n",
            "| id|nombre|\n",
            "+---+------+\n",
            "|  1|  jose|\n",
            "|  2|  juan|\n",
            "+---+------+\n",
            "\n"
          ]
        }
      ]
    },
    {
      "cell_type": "markdown",
      "source": [
        "# Trasformaciones RDD\n"
      ],
      "metadata": {
        "id": "HrnA2r75M3r4"
      }
    },
    {
      "cell_type": "code",
      "source": [
        "import findspark\n",
        "findspark.init()\n",
        "\n",
        "from pyspark.sql import SparkSession\n",
        "spark=SparkSession.builder.getOrCreate()\n",
        "\n",
        "sc= spark.sparkContext\n",
        "\n",
        "rdd= sc.parallelize([1,2,3,4,5])\n",
        "\n"
      ],
      "metadata": {
        "id": "mjoI4cDJM98b"
      },
      "execution_count": null,
      "outputs": []
    },
    {
      "cell_type": "code",
      "source": [
        "rdd_resta=rdd.map(lambda x: x+1)\n",
        "rdd_resta.collect()"
      ],
      "metadata": {
        "colab": {
          "base_uri": "https://localhost:8080/"
        },
        "id": "Y850_XPfrDd2",
        "outputId": "877789c6-23ca-4d1a-8e55-7253b1a6f5a2"
      },
      "execution_count": null,
      "outputs": [
        {
          "output_type": "execute_result",
          "data": {
            "text/plain": [
              "[2, 3, 4, 5, 6]"
            ]
          },
          "metadata": {},
          "execution_count": 9
        }
      ]
    },
    {
      "cell_type": "code",
      "source": [
        "rdd_par=rdd.map(lambda x:x%2==0);\n",
        "rdd_par.collect()"
      ],
      "metadata": {
        "colab": {
          "base_uri": "https://localhost:8080/"
        },
        "id": "oex2KAlJrwHn",
        "outputId": "643acf80-679d-4a7a-c012-fe3d430d70b1"
      },
      "execution_count": null,
      "outputs": [
        {
          "output_type": "execute_result",
          "data": {
            "text/plain": [
              "[False, True, False, True, False]"
            ]
          },
          "metadata": {},
          "execution_count": 10
        }
      ]
    },
    {
      "cell_type": "code",
      "source": [
        "rdd_texto=sc.parallelize([\"jose\",\"juan\",\"lucia\"])\n",
        "rdd_mayuscula=rdd_texto.map(lambda x: x.upper())\n",
        "rdd_mayuscula.collect()"
      ],
      "metadata": {
        "colab": {
          "base_uri": "https://localhost:8080/"
        },
        "id": "9sm5SFcisCSW",
        "outputId": "dcfd6c2a-435e-4fa9-f744-00f0ceabc69e"
      },
      "execution_count": null,
      "outputs": [
        {
          "output_type": "execute_result",
          "data": {
            "text/plain": [
              "['JOSE', 'JUAN', 'LUCIA']"
            ]
          },
          "metadata": {},
          "execution_count": 11
        }
      ]
    },
    {
      "cell_type": "code",
      "source": [
        "rdd_hola= rdd_texto.map(lambda x: \"Hola \"+ x);\n",
        "rdd_hola.collect()"
      ],
      "metadata": {
        "colab": {
          "base_uri": "https://localhost:8080/"
        },
        "id": "8y42WymasoA5",
        "outputId": "0ee22ad8-60f5-494c-efa6-945591355fa5"
      },
      "execution_count": null,
      "outputs": [
        {
          "output_type": "execute_result",
          "data": {
            "text/plain": [
              "['Hola jose', 'Hola juan', 'Hola lucia']"
            ]
          },
          "metadata": {},
          "execution_count": 12
        }
      ]
    },
    {
      "cell_type": "code",
      "source": [
        "rdd_cuadrado= rdd.map(lambda x: (x, x**2))\n",
        "rdd_cuadrado.collect()"
      ],
      "metadata": {
        "colab": {
          "base_uri": "https://localhost:8080/"
        },
        "id": "xxjcg4GAwtmo",
        "outputId": "e2e8fa96-18a9-4645-d1b9-b794a0eec311"
      },
      "execution_count": null,
      "outputs": [
        {
          "output_type": "execute_result",
          "data": {
            "text/plain": [
              "[(1, 1), (2, 4), (3, 9), (4, 16), (5, 25)]"
            ]
          },
          "metadata": {},
          "execution_count": 13
        }
      ]
    },
    {
      "cell_type": "code",
      "source": [
        "rdd_cuadrado_flat= rdd.flatMap(lambda x: (x, x**2))\n",
        "rdd_cuadrado_flat.collect()"
      ],
      "metadata": {
        "colab": {
          "base_uri": "https://localhost:8080/"
        },
        "id": "vEjj0eUZxnBa",
        "outputId": "1859ad61-cfad-49d8-f2ee-db0f24972a8f"
      },
      "execution_count": null,
      "outputs": [
        {
          "output_type": "execute_result",
          "data": {
            "text/plain": [
              "[1, 1, 2, 4, 3, 9, 4, 16, 5, 25]"
            ]
          },
          "metadata": {},
          "execution_count": 14
        }
      ]
    },
    {
      "cell_type": "code",
      "source": [
        "rdd_mayuscula=rdd_texto.flatMap(lambda x: (x, x.upper()))\n",
        "rdd_mayuscula.collect()"
      ],
      "metadata": {
        "colab": {
          "base_uri": "https://localhost:8080/"
        },
        "id": "wXPXwNw0yUl7",
        "outputId": "0b7b5163-31c0-4aeb-ed48-8e2baf141b47"
      },
      "execution_count": null,
      "outputs": [
        {
          "output_type": "execute_result",
          "data": {
            "text/plain": [
              "['jose', 'JOSE', 'juan', 'JUAN', 'lucia', 'LUCIA']"
            ]
          },
          "metadata": {},
          "execution_count": 15
        }
      ]
    },
    {
      "cell_type": "code",
      "source": [
        "rdd=sc.parallelize([1,2,3,4,5,6,7,8,9])\n",
        "rdd_par=rdd.filter(lambda x: x%2==0)\n",
        "rdd_par.collect()\n"
      ],
      "metadata": {
        "colab": {
          "base_uri": "https://localhost:8080/"
        },
        "id": "-jIj4aKXy-xQ",
        "outputId": "886f41e0-9e17-4718-ae38-adff4a31582e"
      },
      "execution_count": null,
      "outputs": [
        {
          "output_type": "execute_result",
          "data": {
            "text/plain": [
              "[2, 4, 6, 8]"
            ]
          },
          "metadata": {},
          "execution_count": 16
        }
      ]
    },
    {
      "cell_type": "code",
      "source": [
        "rdd_impar=rdd.filter(lambda x: x%2 != 0)\n",
        "rdd_impar.collect()"
      ],
      "metadata": {
        "colab": {
          "base_uri": "https://localhost:8080/"
        },
        "id": "ag9soXcgzhul",
        "outputId": "b1c6273d-ea68-46c9-c930-9c97dc7709cc"
      },
      "execution_count": null,
      "outputs": [
        {
          "output_type": "execute_result",
          "data": {
            "text/plain": [
              "[1, 3, 5, 7, 9]"
            ]
          },
          "metadata": {},
          "execution_count": 17
        }
      ]
    },
    {
      "cell_type": "code",
      "source": [
        "rdd_texto=sc.parallelize([\"jose\",\"juaquin\",\"juan\",\"lucia\",\"karla\",\"katia\"])\n",
        "rdd_k =rdd_texto.filter(lambda x: x.startswith(\"k\"))\n",
        "rdd_k.collect()\n"
      ],
      "metadata": {
        "colab": {
          "base_uri": "https://localhost:8080/"
        },
        "id": "QqjI4y_C0E9e",
        "outputId": "ca4623a5-0964-41ee-dbd7-89a8d3cce1c2"
      },
      "execution_count": null,
      "outputs": [
        {
          "output_type": "execute_result",
          "data": {
            "text/plain": [
              "['karla', 'katia']"
            ]
          },
          "metadata": {},
          "execution_count": 18
        }
      ]
    },
    {
      "cell_type": "code",
      "source": [
        "rdd_filtro=rdd_texto.filter(lambda x: (x.startswith(\"j\") and x.find(\"u\")==1))\n",
        "rdd_filtro.collect()"
      ],
      "metadata": {
        "colab": {
          "base_uri": "https://localhost:8080/"
        },
        "id": "TqiTo_RZ00-Y",
        "outputId": "3c971fca-e35f-4856-964b-14792e251709"
      },
      "execution_count": null,
      "outputs": [
        {
          "output_type": "execute_result",
          "data": {
            "text/plain": [
              "['juaquin', 'juan']"
            ]
          },
          "metadata": {},
          "execution_count": 19
        }
      ]
    },
    {
      "cell_type": "code",
      "source": [
        "rdd= sc.parallelize([1,2,3,4,5], 10)\n",
        "rdd.getNumPartitions()"
      ],
      "metadata": {
        "colab": {
          "base_uri": "https://localhost:8080/"
        },
        "id": "GR7ewOI7MCjK",
        "outputId": "8469c06d-ee34-4125-c90a-1b6ad74e84eb"
      },
      "execution_count": null,
      "outputs": [
        {
          "output_type": "execute_result",
          "data": {
            "text/plain": [
              "10"
            ]
          },
          "metadata": {},
          "execution_count": 20
        }
      ]
    },
    {
      "cell_type": "code",
      "source": [
        "rdd5=rdd.coalesce(5)\n",
        "rdd5.getNumPartitions()"
      ],
      "metadata": {
        "colab": {
          "base_uri": "https://localhost:8080/"
        },
        "id": "O1le9T6GMWog",
        "outputId": "9e6dba57-1279-4db0-8f72-8c02664b053c"
      },
      "execution_count": null,
      "outputs": [
        {
          "output_type": "execute_result",
          "data": {
            "text/plain": [
              "5"
            ]
          },
          "metadata": {},
          "execution_count": 21
        }
      ]
    },
    {
      "cell_type": "code",
      "source": [
        "rdd= sc.parallelize([1,2,3,4,5], 3)\n",
        "rdd.getNumPartitions()"
      ],
      "metadata": {
        "colab": {
          "base_uri": "https://localhost:8080/"
        },
        "id": "kOVrIP_mMi6J",
        "outputId": "cc4005e9-5c7e-4d2b-eb53-e431aa369cec"
      },
      "execution_count": null,
      "outputs": [
        {
          "output_type": "execute_result",
          "data": {
            "text/plain": [
              "3"
            ]
          },
          "metadata": {},
          "execution_count": 22
        }
      ]
    },
    {
      "cell_type": "code",
      "source": [
        "rdd7=rdd.repartition(7)\n",
        "rdd7.getNumPartitions()"
      ],
      "metadata": {
        "colab": {
          "base_uri": "https://localhost:8080/"
        },
        "id": "CLb0W7G-Mnxc",
        "outputId": "d04cb1f2-79e0-4cfc-a4d6-d5c897bb86e6"
      },
      "execution_count": null,
      "outputs": [
        {
          "output_type": "execute_result",
          "data": {
            "text/plain": [
              "7"
            ]
          },
          "metadata": {},
          "execution_count": 23
        }
      ]
    },
    {
      "cell_type": "code",
      "source": [
        "rdd = sc.parallelize(\n",
        "    [('casa', 2),\n",
        "     ('parque', 1),\n",
        "     ('que', 5),\n",
        "     ('casa', 1),\n",
        "     ('escuela', 2),\n",
        "     ('casa', 1),\n",
        "     ('que', 1)]\n",
        ")\n",
        "\n",
        "rdd.collect()\n",
        "\n",
        "rdd_reduciodo = rdd.reduceByKey(lambda x,y: x + y)\n",
        "\n",
        "rdd_reduciodo.collect()"
      ],
      "metadata": {
        "colab": {
          "base_uri": "https://localhost:8080/"
        },
        "id": "77e8wNJQNYX5",
        "outputId": "0e0fc136-95ba-4249-eca0-ab107752d342"
      },
      "execution_count": null,
      "outputs": [
        {
          "output_type": "execute_result",
          "data": {
            "text/plain": [
              "[('parque', 1), ('que', 6), ('casa', 4), ('escuela', 2)]"
            ]
          },
          "metadata": {},
          "execution_count": 26
        }
      ]
    },
    {
      "cell_type": "markdown",
      "source": [
        "# Acciones"
      ],
      "metadata": {
        "id": "ySz9jwZ2rjPF"
      }
    },
    {
      "cell_type": "code",
      "source": [
        "rdd = sc.parallelize([2,4,6,8])\n",
        "\n",
        "rdd.reduce(lambda x,y: x + y)\n",
        "\n",
        "rdd1 = sc.parallelize([1,2,3,4])\n",
        "\n",
        "rdd1.reduce(lambda x,y: x * y)"
      ],
      "metadata": {
        "colab": {
          "base_uri": "https://localhost:8080/"
        },
        "id": "z9LLNKXPrvuH",
        "outputId": "31c0615a-563d-4deb-cfb9-d965f55f2430"
      },
      "execution_count": null,
      "outputs": [
        {
          "output_type": "execute_result",
          "data": {
            "text/plain": [
              "24"
            ]
          },
          "metadata": {},
          "execution_count": 28
        }
      ]
    },
    {
      "cell_type": "code",
      "source": [
        "rdd = sc.parallelize(['j', 'o', 's', 'e'])\n",
        "\n",
        "rdd.count()\n",
        "\n",
        "rdd1 = sc.parallelize([item for item in range(10)])\n",
        "\n",
        "rdd1.count()"
      ],
      "metadata": {
        "colab": {
          "base_uri": "https://localhost:8080/"
        },
        "id": "B2C0B5iwr3Gg",
        "outputId": "091cf3e0-b11f-4a8e-9dc0-daea53e1fe02"
      },
      "execution_count": null,
      "outputs": [
        {
          "output_type": "execute_result",
          "data": {
            "text/plain": [
              "10"
            ]
          },
          "metadata": {},
          "execution_count": 29
        }
      ]
    },
    {
      "cell_type": "code",
      "source": [
        "rdd = sc.parallelize('Hola Apache Spark!'.split(' '))\n",
        "\n",
        "rdd.collect()\n",
        "\n",
        "rdd1 = sc.parallelize([(item, item ** 2) for item in range(20)])\n",
        "\n",
        "rdd1.collect()"
      ],
      "metadata": {
        "colab": {
          "base_uri": "https://localhost:8080/"
        },
        "id": "1OtJsHMHr5lY",
        "outputId": "4a4aa0cc-76ef-4be3-812f-118e9c4730f2"
      },
      "execution_count": null,
      "outputs": [
        {
          "output_type": "execute_result",
          "data": {
            "text/plain": [
              "[(0, 0),\n",
              " (1, 1),\n",
              " (2, 4),\n",
              " (3, 9),\n",
              " (4, 16),\n",
              " (5, 25),\n",
              " (6, 36),\n",
              " (7, 49),\n",
              " (8, 64),\n",
              " (9, 81),\n",
              " (10, 100),\n",
              " (11, 121),\n",
              " (12, 144),\n",
              " (13, 169),\n",
              " (14, 196),\n",
              " (15, 225),\n",
              " (16, 256),\n",
              " (17, 289),\n",
              " (18, 324),\n",
              " (19, 361)]"
            ]
          },
          "metadata": {},
          "execution_count": 30
        }
      ]
    },
    {
      "cell_type": "code",
      "source": [
        "# take\n",
        "\n",
        "rdd = sc.parallelize('La programación es bella'.split(' '))\n",
        "\n",
        "rdd.take(2)\n",
        "\n",
        "rdd.take(4)\n",
        "\n",
        "# max\n",
        "\n",
        "rdd1 = sc.parallelize([item/(item + 1) for item in range(10)])\n",
        "\n",
        "rdd1.max()\n",
        "\n",
        "rdd1.collect()\n",
        "\n",
        "# saveAsTextFile\n",
        "\n",
        "rdd.collect()\n",
        "\n",
        "rdd.saveAsTextFile('./rdd')\n",
        "\n",
        "rdd.coalesce(1).saveAsTextFile('./rdd1')"
      ],
      "metadata": {
        "id": "ypfoTEhGr6bZ"
      },
      "execution_count": null,
      "outputs": []
    },
    {
      "cell_type": "markdown",
      "source": [
        "# Avanzado RDD"
      ],
      "metadata": {
        "id": "4L_OBcysTtX1"
      }
    },
    {
      "cell_type": "code",
      "source": [
        "# Almacenamiento en caché\n",
        "\n",
        "import findspark\n",
        "findspark.init()\n",
        "from pyspark.sql import SparkSession\n",
        "\n",
        "spark = SparkSession.builder.getOrCreate()\n",
        "sc = spark.sparkContext\n",
        "\n",
        "rdd = sc.parallelize([item for item in range(10)])\n",
        "\n",
        "from pyspark.storagelevel import StorageLevel\n",
        "\n",
        "rdd.persist(StorageLevel.MEMORY_ONLY)\n",
        "\n",
        "rdd.unpersist()\n",
        "\n",
        "rdd.persist(StorageLevel.DISK_ONLY)\n",
        "\n",
        "rdd.unpersist()\n",
        "\n",
        "rdd.cache()"
      ],
      "metadata": {
        "colab": {
          "base_uri": "https://localhost:8080/"
        },
        "id": "SutwKAc0TybE",
        "outputId": "3727e32e-e48f-4f64-99ec-9f6675107ec5"
      },
      "execution_count": null,
      "outputs": [
        {
          "output_type": "execute_result",
          "data": {
            "text/plain": [
              "ParallelCollectionRDD[0] at readRDDFromFile at PythonRDD.scala:274"
            ]
          },
          "metadata": {},
          "execution_count": 3
        }
      ]
    },
    {
      "cell_type": "code",
      "source": [
        "# HashPartitioner\n",
        "\n",
        "import findspark\n",
        "findspark.init()\n",
        "from pyspark.sql import SparkSession\n",
        "\n",
        "spark = SparkSession.builder.getOrCreate()\n",
        "sc = spark.sparkContext\n",
        "\n",
        "rdd = sc.parallelize(['x', 'y', 'z'])\n",
        "\n",
        "hola = 'Hola'\n",
        "\n",
        "hash(hola)\n",
        "\n",
        "num_particiones = 6\n",
        "\n",
        "# indice = hash(item) % num_particiones\n",
        "\n",
        "hash('x') % num_particiones\n",
        "\n",
        "hash('y') % num_particiones\n",
        "\n",
        "hash('z') % num_particiones\n",
        "\n"
      ],
      "metadata": {
        "colab": {
          "base_uri": "https://localhost:8080/"
        },
        "id": "AumIVUR7T7KA",
        "outputId": "ec17a127-d9f4-4d5e-e948-8eef32516613"
      },
      "execution_count": null,
      "outputs": [
        {
          "output_type": "execute_result",
          "data": {
            "text/plain": [
              "5"
            ]
          },
          "metadata": {},
          "execution_count": 8
        }
      ]
    },
    {
      "cell_type": "code",
      "source": [
        "# Broadcast variables\n",
        "\n",
        "import findspark\n",
        "findspark.init()\n",
        "from pyspark.sql import SparkSession\n",
        "\n",
        "spark = SparkSession.builder.getOrCreate()\n",
        "sc = spark.sparkContext\n",
        "\n",
        "rdd = sc.parallelize([item for item in range(10)])\n",
        "\n",
        "uno = 1\n",
        "\n",
        "br_uno = sc.broadcast(uno)\n",
        "\n",
        "rdd1 = rdd.map(lambda x: x + br_uno.value)\n",
        "\n",
        "rdd1.collect()\n",
        "\n",
        "br_uno.unpersist()\n",
        "\n",
        "rdd1  = rdd.map(lambda x: x + br_uno.value)\n",
        "\n",
        "rdd1.collect()\n",
        "\n",
        "br_uno.destroy()\n",
        "\n",
        "rdd1  = rdd.map(lambda x: x + br_uno.value)\n",
        "\n",
        "#rdd1.take(5)"
      ],
      "metadata": {
        "id": "otKCMuQLT-69"
      },
      "execution_count": null,
      "outputs": []
    },
    {
      "cell_type": "code",
      "source": [
        "# Acumuladores\n",
        "\n",
        "import findspark\n",
        "findspark.init()\n",
        "from pyspark.sql import SparkSession\n",
        "\n",
        "spark = SparkSession.builder.getOrCreate()\n",
        "sc = spark.sparkContext\n",
        "\n",
        "acumulador = sc.accumulator(0)\n",
        "\n",
        "rdd = sc.parallelize([2,4,6,8,10])\n",
        "\n",
        "rdd.foreach(lambda x: acumulador.add(x))\n",
        "\n",
        "print(acumulador.value)\n",
        "\n",
        "rdd1 = sc.parallelize('Mi nombre es Jose Miguel y me siento genial'.split(' '))\n",
        "\n",
        "acumulador1 = sc.accumulator(0)\n",
        "\n",
        "rdd1.foreach(lambda x: acumulador1.add(1))\n",
        "\n",
        "print(acumulador1.value)"
      ],
      "metadata": {
        "colab": {
          "base_uri": "https://localhost:8080/"
        },
        "id": "gs6yFlomUUho",
        "outputId": "3bd24b21-d7e5-4958-8ffb-0cbc1238724f"
      },
      "execution_count": null,
      "outputs": [
        {
          "output_type": "stream",
          "name": "stdout",
          "text": [
            "30\n",
            "9\n"
          ]
        }
      ]
    },
    {
      "cell_type": "markdown",
      "source": [
        "# Spark SQL"
      ],
      "metadata": {
        "id": "8dBShhtcUaVp"
      }
    },
    {
      "cell_type": "code",
      "source": [
        "import findspark\n",
        "findspark.init()\n",
        "from pyspark.sql import SparkSession\n",
        "\n",
        "spark = SparkSession.builder.getOrCreate()\n",
        "sc = spark.sparkContext\n"
      ],
      "metadata": {
        "id": "FFQGYof6Ujxo"
      },
      "execution_count": null,
      "outputs": []
    },
    {
      "cell_type": "markdown",
      "source": [
        "Crear un DataFrame a partir de un RDD."
      ],
      "metadata": {
        "id": "tpJslrQXU0PE"
      }
    },
    {
      "cell_type": "code",
      "source": [
        "rdd=sc.parallelize([item for item in range(10)]).map(lambda x: (x, x**2))\n",
        "rdd.collect()"
      ],
      "metadata": {
        "colab": {
          "base_uri": "https://localhost:8080/"
        },
        "id": "TQt94rXLU61q",
        "outputId": "c0911a93-5a70-463d-bc10-f15dd67e6893"
      },
      "execution_count": null,
      "outputs": [
        {
          "output_type": "execute_result",
          "data": {
            "text/plain": [
              "[(0, 0),\n",
              " (1, 1),\n",
              " (2, 4),\n",
              " (3, 9),\n",
              " (4, 16),\n",
              " (5, 25),\n",
              " (6, 36),\n",
              " (7, 49),\n",
              " (8, 64),\n",
              " (9, 81)]"
            ]
          },
          "metadata": {},
          "execution_count": 5
        }
      ]
    },
    {
      "cell_type": "code",
      "source": [
        "df= rdd.toDF([\"numero\",\"cuadrado\"])\n",
        "\n",
        "df.printSchema()"
      ],
      "metadata": {
        "colab": {
          "base_uri": "https://localhost:8080/"
        },
        "id": "tuEi70CKVVhU",
        "outputId": "75150641-c245-4a9b-8344-14a48a6029e2"
      },
      "execution_count": null,
      "outputs": [
        {
          "output_type": "stream",
          "name": "stdout",
          "text": [
            "root\n",
            " |-- numero: long (nullable = true)\n",
            " |-- cuadrado: long (nullable = true)\n",
            "\n"
          ]
        }
      ]
    },
    {
      "cell_type": "code",
      "source": [
        "df.show()"
      ],
      "metadata": {
        "colab": {
          "base_uri": "https://localhost:8080/"
        },
        "id": "4hB8kAVdVl14",
        "outputId": "2901f3e0-16af-49e4-b5f2-1d41f10a826e"
      },
      "execution_count": null,
      "outputs": [
        {
          "output_type": "stream",
          "name": "stdout",
          "text": [
            "+------+--------+\n",
            "|numero|cuadrado|\n",
            "+------+--------+\n",
            "|     0|       0|\n",
            "|     1|       1|\n",
            "|     2|       4|\n",
            "|     3|       9|\n",
            "|     4|      16|\n",
            "|     5|      25|\n",
            "|     6|      36|\n",
            "|     7|      49|\n",
            "|     8|      64|\n",
            "|     9|      81|\n",
            "+------+--------+\n",
            "\n"
          ]
        }
      ]
    },
    {
      "cell_type": "markdown",
      "source": [
        "Crear un dataframe a partir de un rdd con schema"
      ],
      "metadata": {
        "id": "bh_iWOxjVskP"
      }
    },
    {
      "cell_type": "code",
      "source": [
        "rdd1=sc.parallelize([(1, \"Jose\", 35.5),(2,\"Teresa\",54.3),(3,\"Katia\", 12.7)])\n",
        "from pyspark.sql.types import *\n",
        " "
      ],
      "metadata": {
        "id": "paqCjwLxVzbg",
        "colab": {
          "base_uri": "https://localhost:8080/",
          "height": 218
        },
        "outputId": "92fba971-f09d-4689-c74f-2fc8f4662ff2"
      },
      "execution_count": null,
      "outputs": [
        {
          "output_type": "error",
          "ename": "NameError",
          "evalue": "ignored",
          "traceback": [
            "\u001b[0;31m---------------------------------------------------------------------------\u001b[0m",
            "\u001b[0;31mNameError\u001b[0m                                 Traceback (most recent call last)",
            "\u001b[0;32m<ipython-input-1-7b39738b9cc3>\u001b[0m in \u001b[0;36m<cell line: 1>\u001b[0;34m()\u001b[0m\n\u001b[0;32m----> 1\u001b[0;31m \u001b[0mrdd1\u001b[0m\u001b[0;34m=\u001b[0m\u001b[0msc\u001b[0m\u001b[0;34m.\u001b[0m\u001b[0mparallelize\u001b[0m\u001b[0;34m(\u001b[0m\u001b[0;34m[\u001b[0m\u001b[0;34m(\u001b[0m\u001b[0;36m1\u001b[0m\u001b[0;34m,\u001b[0m \u001b[0;34m\"Jose\"\u001b[0m\u001b[0;34m,\u001b[0m \u001b[0;36m35.5\u001b[0m\u001b[0;34m)\u001b[0m\u001b[0;34m,\u001b[0m\u001b[0;34m(\u001b[0m\u001b[0;36m2\u001b[0m\u001b[0;34m,\u001b[0m\u001b[0;34m\"Teresa\"\u001b[0m\u001b[0;34m,\u001b[0m\u001b[0;36m54.3\u001b[0m\u001b[0;34m)\u001b[0m\u001b[0;34m,\u001b[0m\u001b[0;34m(\u001b[0m\u001b[0;36m3\u001b[0m\u001b[0;34m,\u001b[0m\u001b[0;34m\"Katia\"\u001b[0m\u001b[0;34m,\u001b[0m \u001b[0;36m12.7\u001b[0m\u001b[0;34m)\u001b[0m\u001b[0;34m]\u001b[0m\u001b[0;34m)\u001b[0m\u001b[0;34m\u001b[0m\u001b[0;34m\u001b[0m\u001b[0m\n\u001b[0m\u001b[1;32m      2\u001b[0m \u001b[0;32mfrom\u001b[0m \u001b[0mpyspark\u001b[0m\u001b[0;34m.\u001b[0m\u001b[0msql\u001b[0m\u001b[0;34m.\u001b[0m\u001b[0mtypes\u001b[0m \u001b[0;32mimport\u001b[0m \u001b[0;34m*\u001b[0m\u001b[0;34m\u001b[0m\u001b[0;34m\u001b[0m\u001b[0m\n\u001b[1;32m      3\u001b[0m \u001b[0;34m\u001b[0m\u001b[0m\n",
            "\u001b[0;31mNameError\u001b[0m: name 'sc' is not defined"
          ]
        }
      ]
    },
    {
      "cell_type": "code",
      "source": [
        "#Via uno\n",
        "\n",
        "esquema1= StructType(\n",
        "    [\n",
        "     StructField(\"id\", IntegerType(), True),\n",
        "     StructField(\"nombre\", StringType(), True),\n",
        "     StructField(\"saldo\", DoubleType(), True),\n",
        "    ]\n",
        ")"
      ],
      "metadata": {
        "id": "KciRUq6PXNnG"
      },
      "execution_count": null,
      "outputs": []
    },
    {
      "cell_type": "code",
      "source": [
        "#Via dos\n",
        "\n",
        "esquema2=\"`id` INT, `nombre` STRING, `saldo` DOUBLE\"\n",
        "\n",
        "df1=spark.createDataFrame(rdd1, schema=esquema1)"
      ],
      "metadata": {
        "id": "njSeZ2ENX1mW"
      },
      "execution_count": null,
      "outputs": []
    },
    {
      "cell_type": "code",
      "source": [
        "df1.printSchema()"
      ],
      "metadata": {
        "colab": {
          "base_uri": "https://localhost:8080/"
        },
        "id": "_eYTcNGbYkhq",
        "outputId": "91b1b955-a9df-44b8-f696-f43ea32895e7"
      },
      "execution_count": null,
      "outputs": [
        {
          "output_type": "stream",
          "name": "stdout",
          "text": [
            "root\n",
            " |-- id: integer (nullable = true)\n",
            " |-- nombre: string (nullable = true)\n",
            " |-- saldo: double (nullable = true)\n",
            "\n"
          ]
        }
      ]
    },
    {
      "cell_type": "code",
      "source": [
        "df1.show()"
      ],
      "metadata": {
        "colab": {
          "base_uri": "https://localhost:8080/"
        },
        "id": "Z_HHgIi1YqK6",
        "outputId": "4ee335bd-4d49-4e55-e273-16c356ab2c3f"
      },
      "execution_count": null,
      "outputs": [
        {
          "output_type": "stream",
          "name": "stdout",
          "text": [
            "+---+------+-----+\n",
            "| id|nombre|saldo|\n",
            "+---+------+-----+\n",
            "|  1|  Jose| 35.5|\n",
            "|  2|Teresa| 54.3|\n",
            "|  3| Katia| 12.7|\n",
            "+---+------+-----+\n",
            "\n"
          ]
        }
      ]
    },
    {
      "cell_type": "code",
      "source": [
        "df2=spark.createDataFrame(rdd1, schema=esquema2)\n",
        "df2.printSchema()"
      ],
      "metadata": {
        "colab": {
          "base_uri": "https://localhost:8080/"
        },
        "id": "OpDxaqWZYzoz",
        "outputId": "517d0979-a2aa-422c-886b-2e4a4e6f29be"
      },
      "execution_count": null,
      "outputs": [
        {
          "output_type": "stream",
          "name": "stdout",
          "text": [
            "root\n",
            " |-- id: integer (nullable = true)\n",
            " |-- nombre: string (nullable = true)\n",
            " |-- saldo: double (nullable = true)\n",
            "\n"
          ]
        }
      ]
    },
    {
      "cell_type": "code",
      "source": [
        "df2.show()"
      ],
      "metadata": {
        "colab": {
          "base_uri": "https://localhost:8080/"
        },
        "id": "vwx-cqNaY77J",
        "outputId": "0d30fbcf-b882-4e2e-c835-725ca6c431b2"
      },
      "execution_count": null,
      "outputs": [
        {
          "output_type": "stream",
          "name": "stdout",
          "text": [
            "+---+------+-----+\n",
            "| id|nombre|saldo|\n",
            "+---+------+-----+\n",
            "|  1|  Jose| 35.5|\n",
            "|  2|Teresa| 54.3|\n",
            "|  3| Katia| 12.7|\n",
            "+---+------+-----+\n",
            "\n"
          ]
        }
      ]
    },
    {
      "cell_type": "code",
      "source": [
        "# Crear un DataFrame mediante la lectura de un archivo de texto\n",
        "\n",
        "df = spark.read.text('./data/dataTXT.txt')\n",
        "\n",
        "df.show()\n",
        "\n",
        "df.show(truncate=False)"
      ],
      "metadata": {
        "colab": {
          "base_uri": "https://localhost:8080/"
        },
        "id": "_JqsIrcvZgCL",
        "outputId": "6cce3ea5-3717-4a31-dff8-0ed056e7d8f5"
      },
      "execution_count": null,
      "outputs": [
        {
          "output_type": "stream",
          "name": "stdout",
          "text": [
            "+--------------------+\n",
            "|               value|\n",
            "+--------------------+\n",
            "|Estamos en el cur...|\n",
            "|En este capítulo ...|\n",
            "|En esta sección e...|\n",
            "|y en este ejemplo...|\n",
            "+--------------------+\n",
            "\n",
            "+-----------------------------------------------------------------------+\n",
            "|value                                                                  |\n",
            "+-----------------------------------------------------------------------+\n",
            "|Estamos en el curso de pyspark                                         |\n",
            "|En este capítulo estamos estudiando el API SQL de Saprk                |\n",
            "|En esta sección estamos creado dataframes a partir de fuentes de datos,|\n",
            "|y en este ejemplo creamos un dataframe a partir de un texto plano      |\n",
            "+-----------------------------------------------------------------------+\n",
            "\n"
          ]
        }
      ]
    },
    {
      "cell_type": "code",
      "source": [
        "# Crear un DataFrame mediante la lectura de un archivo csv\n",
        "\n",
        "df1 = spark.read.csv('./data/dataCSV.csv')\n",
        "\n",
        "df1.show()\n",
        "\n"
      ],
      "metadata": {
        "colab": {
          "base_uri": "https://localhost:8080/"
        },
        "id": "jW5gaSRlZx2y",
        "outputId": "e2b60fd7-39fb-4eb3-9060-e921ebfeb052"
      },
      "execution_count": null,
      "outputs": [
        {
          "output_type": "stream",
          "name": "stdout",
          "text": [
            "+-----------+-------------+--------------------+--------------------+-----------+--------------------+--------------------+-------+------+--------+-------------+--------------------+-----------------+----------------+--------------------+--------------------+\n",
            "|        _c0|          _c1|                 _c2|                 _c3|        _c4|                 _c5|                 _c6|    _c7|   _c8|     _c9|         _c10|                _c11|             _c12|            _c13|                _c14|                _c15|\n",
            "+-----------+-------------+--------------------+--------------------+-----------+--------------------+--------------------+-------+------+--------+-------------+--------------------+-----------------+----------------+--------------------+--------------------+\n",
            "|   video_id|trending_date|               title|       channel_title|category_id|        publish_time|                tags|  views| likes|dislikes|comment_count|      thumbnail_link|comments_disabled|ratings_disabled|video_error_or_re...|         description|\n",
            "|2kyS6SvSYSE|     17.14.11|WE WANT TO TALK A...|        CaseyNeistat|         22|2017-11-13T17:13:...|     SHANtell martin| 748374| 57527|    2966|        15954|https://i.ytimg.c...|            False|           False|               False|SHANTELL'S CHANNE...|\n",
            "|1ZAPwfrtAFY|     17.14.11|The Trump Preside...|     LastWeekTonight|         24|2017-11-13T07:30:...|\"last week tonigh...|2418783| 97185|    6146|        12703|https://i.ytimg.c...|            False|           False|               False|One year after th...|\n",
            "|5qpjK5DgCt4|     17.14.11|Racist Superman |...|        Rudy Mancuso|         23|2017-11-12T19:05:...|\"racist superman\"...|3191434|146033|    5339|         8181|https://i.ytimg.c...|            False|           False|               False|WATCH MY PREVIOUS...|\n",
            "|puqaWrEC7tY|     17.14.11|Nickelback Lyrics...|Good Mythical Mor...|         24|2017-11-13T11:00:...|\"rhett and link\"|...| 343168| 10172|     666|         2146|https://i.ytimg.c...|            False|           False|               False|Today we find out...|\n",
            "|d380meD0W0M|     17.14.11|I Dare You: GOING...|            nigahiga|         24|2017-11-12T18:01:...|\"ryan\"|\"higa\"|\"hi...|2095731|132235|    1989|        17518|https://i.ytimg.c...|            False|           False|               False|I know it's been ...|\n",
            "|gHZ1Qz0KiKM|     17.14.11|2 Weeks with iPho...|            iJustine|         28|2017-11-13T19:07:...|\"ijustine\"|\"week ...| 119180|  9763|     511|         1434|https://i.ytimg.c...|            False|           False|               False|Using the iPhone ...|\n",
            "|39idVpFF7NQ|     17.14.11|Roy Moore & Jeff ...| Saturday Night Live|         24|2017-11-12T05:37:...|\"SNL\"|\"Saturday N...|2103417| 15993|    2445|         1970|https://i.ytimg.c...|            False|           False|               False|Embattled Alabama...|\n",
            "|nc99ccSXST0|     17.14.11|5 Ice Cream Gadge...|  CrazyRussianHacker|         28|2017-11-12T21:50:...|\"5 Ice Cream Gadg...| 817732| 23663|     778|         3432|https://i.ytimg.c...|            False|           False|               False|Ice Cream Pint Co...|\n",
            "|jr9QtXwC9vc|     17.14.11|The Greatest Show...|    20th Century Fox|          1|2017-11-13T14:00:...|\"Trailer\"|\"Hugh J...| 826059|  3543|     119|          340|https://i.ytimg.c...|            False|           False|               False|Inspired by the i...|\n",
            "|TUmyygCMMGA|     17.14.11|Why the rise of t...|                 Vox|         25|2017-11-13T13:45:...|\"vox.com\"|\"vox\"|\"...| 256426| 12654|    1363|         2368|https://i.ytimg.c...|            False|           False|               False|For now, at least...|\n",
            "|9wRQljFNDW8|     17.14.11|Dion Lewis' 103-Y...|                 NFL|         17|2017-11-13T02:05:...|\"NFL\"|\"Football\"|...|  81377|   655|      25|          177|https://i.ytimg.c...|            False|           False|               False|New England Patri...|\n",
            "|VifQlJit6A0|     17.14.11|(SPOILERS) 'Shiva...|                 amc|         24|2017-11-13T03:00:...|\"The Walking Dead...| 104578|  1576|     303|         1279|https://i.ytimg.c...|            False|           False|               False|Shiva arrives jus...|\n",
            "|5E4ZBSInqUU|     17.14.11|Marshmello - Bloc...|          marshmello|         10|2017-11-13T17:00:...|\"marshmello\"|\"blo...| 687582|114188|    1333|         8371|https://i.ytimg.c...|            False|           False|               False|WATCH SILENCE MUS...|\n",
            "|GgVmn66oK_A|     17.14.11|Which Countries A...|       NowThis World|         25|2017-11-12T14:00:...|\"nowthis\"|\"nowthi...| 544770|  7848|    1171|         3981|https://i.ytimg.c...|            False|           False|               False|The world at larg...|\n",
            "|TaTleo4cOs8|     17.14.11|SHOPPING FOR NEW ...|     The king of DIY|         15|2017-11-12T18:30:...|\"shopping for new...| 207532|  7473|     246|         2120|https://i.ytimg.c...|            False|           False|               False|Today we go shopp...|\n",
            "|kgaO45SyaO4|     17.14.11|    The New SpotMini|      BostonDynamics|         28|2017-11-13T20:09:...|\"Robots\"|\"Boston ...|  75752|  9419|      52|         1230|https://i.ytimg.c...|            False|           False|               False|For more informat...|\n",
            "|ZAQs-ctOqXQ|     17.14.11|One Change That W...|             Cracked|         23|2017-11-12T17:00:...|\"pacific rim\"|\"pa...| 295639|  8011|     638|         1256|https://i.ytimg.c...|            False|           False|               False|Pacific Rim was s...|\n",
            "|YVfyYrEmzgM|     17.14.11|How does your bod...|              TED-Ed|         27|2017-11-13T16:00:...|\"TED\"|\"TED-Ed\"|\"T...|  78044|  5398|      53|          385|https://i.ytimg.c...|            False|           False|               False|Check out our Pat...|\n",
            "|eNSN6qet1kE|     17.14.11|HomeMade Electric...|         PeterSripol|         28|2017-11-13T15:30:...|\"ultralight\"|\"air...|  97007| 11963|      36|         2211|https://i.ytimg.c...|            False|           False|               False|aaaannnd now to f...|\n",
            "+-----------+-------------+--------------------+--------------------+-----------+--------------------+--------------------+-------+------+--------+-------------+--------------------+-----------------+----------------+--------------------+--------------------+\n",
            "only showing top 20 rows\n",
            "\n"
          ]
        }
      ]
    },
    {
      "cell_type": "code",
      "source": [
        "\n",
        "df1 = spark.read.option('header', 'true').csv('./data/dataCSV.csv')\n",
        "\n",
        "df1.show()"
      ],
      "metadata": {
        "colab": {
          "base_uri": "https://localhost:8080/"
        },
        "id": "evpd8-roZ8jY",
        "outputId": "781f6302-1179-4650-f13d-62d8c1b795f5"
      },
      "execution_count": null,
      "outputs": [
        {
          "output_type": "stream",
          "name": "stdout",
          "text": [
            "+-----------+-------------+--------------------+--------------------+-----------+--------------------+--------------------+-------+------+--------+-------------+--------------------+-----------------+----------------+----------------------+--------------------+\n",
            "|   video_id|trending_date|               title|       channel_title|category_id|        publish_time|                tags|  views| likes|dislikes|comment_count|      thumbnail_link|comments_disabled|ratings_disabled|video_error_or_removed|         description|\n",
            "+-----------+-------------+--------------------+--------------------+-----------+--------------------+--------------------+-------+------+--------+-------------+--------------------+-----------------+----------------+----------------------+--------------------+\n",
            "|2kyS6SvSYSE|     17.14.11|WE WANT TO TALK A...|        CaseyNeistat|         22|2017-11-13T17:13:...|     SHANtell martin| 748374| 57527|    2966|        15954|https://i.ytimg.c...|            False|           False|                 False|SHANTELL'S CHANNE...|\n",
            "|1ZAPwfrtAFY|     17.14.11|The Trump Preside...|     LastWeekTonight|         24|2017-11-13T07:30:...|\"last week tonigh...|2418783| 97185|    6146|        12703|https://i.ytimg.c...|            False|           False|                 False|One year after th...|\n",
            "|5qpjK5DgCt4|     17.14.11|Racist Superman |...|        Rudy Mancuso|         23|2017-11-12T19:05:...|\"racist superman\"...|3191434|146033|    5339|         8181|https://i.ytimg.c...|            False|           False|                 False|WATCH MY PREVIOUS...|\n",
            "|puqaWrEC7tY|     17.14.11|Nickelback Lyrics...|Good Mythical Mor...|         24|2017-11-13T11:00:...|\"rhett and link\"|...| 343168| 10172|     666|         2146|https://i.ytimg.c...|            False|           False|                 False|Today we find out...|\n",
            "|d380meD0W0M|     17.14.11|I Dare You: GOING...|            nigahiga|         24|2017-11-12T18:01:...|\"ryan\"|\"higa\"|\"hi...|2095731|132235|    1989|        17518|https://i.ytimg.c...|            False|           False|                 False|I know it's been ...|\n",
            "|gHZ1Qz0KiKM|     17.14.11|2 Weeks with iPho...|            iJustine|         28|2017-11-13T19:07:...|\"ijustine\"|\"week ...| 119180|  9763|     511|         1434|https://i.ytimg.c...|            False|           False|                 False|Using the iPhone ...|\n",
            "|39idVpFF7NQ|     17.14.11|Roy Moore & Jeff ...| Saturday Night Live|         24|2017-11-12T05:37:...|\"SNL\"|\"Saturday N...|2103417| 15993|    2445|         1970|https://i.ytimg.c...|            False|           False|                 False|Embattled Alabama...|\n",
            "|nc99ccSXST0|     17.14.11|5 Ice Cream Gadge...|  CrazyRussianHacker|         28|2017-11-12T21:50:...|\"5 Ice Cream Gadg...| 817732| 23663|     778|         3432|https://i.ytimg.c...|            False|           False|                 False|Ice Cream Pint Co...|\n",
            "|jr9QtXwC9vc|     17.14.11|The Greatest Show...|    20th Century Fox|          1|2017-11-13T14:00:...|\"Trailer\"|\"Hugh J...| 826059|  3543|     119|          340|https://i.ytimg.c...|            False|           False|                 False|Inspired by the i...|\n",
            "|TUmyygCMMGA|     17.14.11|Why the rise of t...|                 Vox|         25|2017-11-13T13:45:...|\"vox.com\"|\"vox\"|\"...| 256426| 12654|    1363|         2368|https://i.ytimg.c...|            False|           False|                 False|For now, at least...|\n",
            "|9wRQljFNDW8|     17.14.11|Dion Lewis' 103-Y...|                 NFL|         17|2017-11-13T02:05:...|\"NFL\"|\"Football\"|...|  81377|   655|      25|          177|https://i.ytimg.c...|            False|           False|                 False|New England Patri...|\n",
            "|VifQlJit6A0|     17.14.11|(SPOILERS) 'Shiva...|                 amc|         24|2017-11-13T03:00:...|\"The Walking Dead...| 104578|  1576|     303|         1279|https://i.ytimg.c...|            False|           False|                 False|Shiva arrives jus...|\n",
            "|5E4ZBSInqUU|     17.14.11|Marshmello - Bloc...|          marshmello|         10|2017-11-13T17:00:...|\"marshmello\"|\"blo...| 687582|114188|    1333|         8371|https://i.ytimg.c...|            False|           False|                 False|WATCH SILENCE MUS...|\n",
            "|GgVmn66oK_A|     17.14.11|Which Countries A...|       NowThis World|         25|2017-11-12T14:00:...|\"nowthis\"|\"nowthi...| 544770|  7848|    1171|         3981|https://i.ytimg.c...|            False|           False|                 False|The world at larg...|\n",
            "|TaTleo4cOs8|     17.14.11|SHOPPING FOR NEW ...|     The king of DIY|         15|2017-11-12T18:30:...|\"shopping for new...| 207532|  7473|     246|         2120|https://i.ytimg.c...|            False|           False|                 False|Today we go shopp...|\n",
            "|kgaO45SyaO4|     17.14.11|    The New SpotMini|      BostonDynamics|         28|2017-11-13T20:09:...|\"Robots\"|\"Boston ...|  75752|  9419|      52|         1230|https://i.ytimg.c...|            False|           False|                 False|For more informat...|\n",
            "|ZAQs-ctOqXQ|     17.14.11|One Change That W...|             Cracked|         23|2017-11-12T17:00:...|\"pacific rim\"|\"pa...| 295639|  8011|     638|         1256|https://i.ytimg.c...|            False|           False|                 False|Pacific Rim was s...|\n",
            "|YVfyYrEmzgM|     17.14.11|How does your bod...|              TED-Ed|         27|2017-11-13T16:00:...|\"TED\"|\"TED-Ed\"|\"T...|  78044|  5398|      53|          385|https://i.ytimg.c...|            False|           False|                 False|Check out our Pat...|\n",
            "|eNSN6qet1kE|     17.14.11|HomeMade Electric...|         PeterSripol|         28|2017-11-13T15:30:...|\"ultralight\"|\"air...|  97007| 11963|      36|         2211|https://i.ytimg.c...|            False|           False|                 False|aaaannnd now to f...|\n",
            "|B5HORANmzHw|     17.14.11|Founding An Inbre...|             SciShow|         27|2017-11-12T22:00:...|\"SciShow\"|\"scienc...| 223871|  8421|     191|         1214|https://i.ytimg.c...|            False|           False|                 False|Thanks to 23AndMe...|\n",
            "+-----------+-------------+--------------------+--------------------+-----------+--------------------+--------------------+-------+------+--------+-------------+--------------------+-----------------+----------------+----------------------+--------------------+\n",
            "only showing top 20 rows\n",
            "\n"
          ]
        }
      ]
    },
    {
      "cell_type": "code",
      "source": [
        "# Leer un archivo de texto con un delimitador diferente\n",
        "\n",
        "df2 = spark.read.option('header', 'true').option('delimiter', '|').csv('./data/dataTab.txt')\n",
        "\n",
        "df2.show()"
      ],
      "metadata": {
        "colab": {
          "base_uri": "https://localhost:8080/"
        },
        "id": "ywQ8c1o0aE5k",
        "outputId": "61750db9-932e-4339-f2d2-9427291e1ad6"
      },
      "execution_count": null,
      "outputs": [
        {
          "output_type": "stream",
          "name": "stdout",
          "text": [
            "+----+----+----------+-----+\n",
            "|pais|edad|     fecha|color|\n",
            "+----+----+----------+-----+\n",
            "|  MX|  23|2021-02-21| rojo|\n",
            "|  CA|  56|2021-06-10| azul|\n",
            "|  US|  32|2020-06-02|verde|\n",
            "+----+----+----------+-----+\n",
            "\n"
          ]
        }
      ]
    },
    {
      "cell_type": "code",
      "source": [
        "from pyspark.sql.types import StructType, StructField, StringType, IntegerType, DateType\n",
        "\n",
        "json_schema =  StructType(\n",
        "    [\n",
        "     StructField('color', StringType(), True),\n",
        "     StructField('edad', IntegerType(), True),\n",
        "     StructField('fecha', DateType(), True),\n",
        "     StructField('pais', StringType(), True)\n",
        "    ]\n",
        ")\n",
        "\n",
        "df4 = spark.read.schema(json_schema).json('./data/dataJSON.json')\n",
        "\n",
        "df4.show()"
      ],
      "metadata": {
        "colab": {
          "base_uri": "https://localhost:8080/"
        },
        "id": "qc-eqxvyaIKN",
        "outputId": "3243c2e3-f732-411f-8677-81ad7889d9a5"
      },
      "execution_count": null,
      "outputs": [
        {
          "output_type": "stream",
          "name": "stdout",
          "text": [
            "+-----+----+----------+----+\n",
            "|color|edad|     fecha|pais|\n",
            "+-----+----+----------+----+\n",
            "| rojo|null|2021-02-21|  MX|\n",
            "| azul|null|2021-06-10|  CA|\n",
            "|verde|null|2020-06-02|  US|\n",
            "+-----+----+----------+----+\n",
            "\n"
          ]
        }
      ]
    },
    {
      "cell_type": "code",
      "source": [
        "df4.printSchema()"
      ],
      "metadata": {
        "colab": {
          "base_uri": "https://localhost:8080/"
        },
        "id": "nsJ-INnoaO3q",
        "outputId": "54840635-9b0c-4e03-c49e-e87db7e8d5c6"
      },
      "execution_count": null,
      "outputs": [
        {
          "output_type": "stream",
          "name": "stdout",
          "text": [
            "root\n",
            " |-- color: string (nullable = true)\n",
            " |-- edad: integer (nullable = true)\n",
            " |-- fecha: date (nullable = true)\n",
            " |-- pais: string (nullable = true)\n",
            "\n"
          ]
        }
      ]
    },
    {
      "cell_type": "code",
      "source": [
        "df5 = spark.read.parquet('./data/dataPARQUET.parquet')\n",
        "\n",
        "df5.show()\n"
      ],
      "metadata": {
        "colab": {
          "base_uri": "https://localhost:8080/"
        },
        "id": "z8sURpP_aRBo",
        "outputId": "8ae93eec-267d-4b7c-fd6b-f8e6b586ad0a"
      },
      "execution_count": null,
      "outputs": [
        {
          "output_type": "stream",
          "name": "stdout",
          "text": [
            "+-----------+-------------+--------------------+--------------------+-----------+--------------------+--------------------+-------+------+--------+-------------+--------------------+-----------------+----------------+----------------------+--------------------+\n",
            "|   video_id|trending_date|               title|       channel_title|category_id|        publish_time|                tags|  views| likes|dislikes|comment_count|      thumbnail_link|comments_disabled|ratings_disabled|video_error_or_removed|         description|\n",
            "+-----------+-------------+--------------------+--------------------+-----------+--------------------+--------------------+-------+------+--------+-------------+--------------------+-----------------+----------------+----------------------+--------------------+\n",
            "|2kyS6SvSYSE|     17.14.11|WE WANT TO TALK A...|        CaseyNeistat|         22|2017-11-13T17:13:...|     SHANtell martin| 748374| 57527|    2966|        15954|https://i.ytimg.c...|            False|           False|                 False|SHANTELL'S CHANNE...|\n",
            "|1ZAPwfrtAFY|     17.14.11|The Trump Preside...|     LastWeekTonight|         24|2017-11-13T07:30:...|\"last week tonigh...|2418783| 97185|    6146|        12703|https://i.ytimg.c...|            False|           False|                 False|One year after th...|\n",
            "|5qpjK5DgCt4|     17.14.11|Racist Superman |...|        Rudy Mancuso|         23|2017-11-12T19:05:...|\"racist superman\"...|3191434|146033|    5339|         8181|https://i.ytimg.c...|            False|           False|                 False|WATCH MY PREVIOUS...|\n",
            "|puqaWrEC7tY|     17.14.11|Nickelback Lyrics...|Good Mythical Mor...|         24|2017-11-13T11:00:...|\"rhett and link\"|...| 343168| 10172|     666|         2146|https://i.ytimg.c...|            False|           False|                 False|Today we find out...|\n",
            "|d380meD0W0M|     17.14.11|I Dare You: GOING...|            nigahiga|         24|2017-11-12T18:01:...|\"ryan\"|\"higa\"|\"hi...|2095731|132235|    1989|        17518|https://i.ytimg.c...|            False|           False|                 False|I know it's been ...|\n",
            "|gHZ1Qz0KiKM|     17.14.11|2 Weeks with iPho...|            iJustine|         28|2017-11-13T19:07:...|\"ijustine\"|\"week ...| 119180|  9763|     511|         1434|https://i.ytimg.c...|            False|           False|                 False|Using the iPhone ...|\n",
            "|39idVpFF7NQ|     17.14.11|Roy Moore & Jeff ...| Saturday Night Live|         24|2017-11-12T05:37:...|\"SNL\"|\"Saturday N...|2103417| 15993|    2445|         1970|https://i.ytimg.c...|            False|           False|                 False|Embattled Alabama...|\n",
            "|nc99ccSXST0|     17.14.11|5 Ice Cream Gadge...|  CrazyRussianHacker|         28|2017-11-12T21:50:...|\"5 Ice Cream Gadg...| 817732| 23663|     778|         3432|https://i.ytimg.c...|            False|           False|                 False|Ice Cream Pint Co...|\n",
            "|jr9QtXwC9vc|     17.14.11|The Greatest Show...|    20th Century Fox|          1|2017-11-13T14:00:...|\"Trailer\"|\"Hugh J...| 826059|  3543|     119|          340|https://i.ytimg.c...|            False|           False|                 False|Inspired by the i...|\n",
            "|TUmyygCMMGA|     17.14.11|Why the rise of t...|                 Vox|         25|2017-11-13T13:45:...|\"vox.com\"|\"vox\"|\"...| 256426| 12654|    1363|         2368|https://i.ytimg.c...|            False|           False|                 False|For now, at least...|\n",
            "|9wRQljFNDW8|     17.14.11|Dion Lewis' 103-Y...|                 NFL|         17|2017-11-13T02:05:...|\"NFL\"|\"Football\"|...|  81377|   655|      25|          177|https://i.ytimg.c...|            False|           False|                 False|New England Patri...|\n",
            "|VifQlJit6A0|     17.14.11|(SPOILERS) 'Shiva...|                 amc|         24|2017-11-13T03:00:...|\"The Walking Dead...| 104578|  1576|     303|         1279|https://i.ytimg.c...|            False|           False|                 False|Shiva arrives jus...|\n",
            "|5E4ZBSInqUU|     17.14.11|Marshmello - Bloc...|          marshmello|         10|2017-11-13T17:00:...|\"marshmello\"|\"blo...| 687582|114188|    1333|         8371|https://i.ytimg.c...|            False|           False|                 False|WATCH SILENCE MUS...|\n",
            "|GgVmn66oK_A|     17.14.11|Which Countries A...|       NowThis World|         25|2017-11-12T14:00:...|\"nowthis\"|\"nowthi...| 544770|  7848|    1171|         3981|https://i.ytimg.c...|            False|           False|                 False|The world at larg...|\n",
            "|TaTleo4cOs8|     17.14.11|SHOPPING FOR NEW ...|     The king of DIY|         15|2017-11-12T18:30:...|\"shopping for new...| 207532|  7473|     246|         2120|https://i.ytimg.c...|            False|           False|                 False|Today we go shopp...|\n",
            "|kgaO45SyaO4|     17.14.11|    The New SpotMini|      BostonDynamics|         28|2017-11-13T20:09:...|\"Robots\"|\"Boston ...|  75752|  9419|      52|         1230|https://i.ytimg.c...|            False|           False|                 False|For more informat...|\n",
            "|ZAQs-ctOqXQ|     17.14.11|One Change That W...|             Cracked|         23|2017-11-12T17:00:...|\"pacific rim\"|\"pa...| 295639|  8011|     638|         1256|https://i.ytimg.c...|            False|           False|                 False|Pacific Rim was s...|\n",
            "|YVfyYrEmzgM|     17.14.11|How does your bod...|              TED-Ed|         27|2017-11-13T16:00:...|\"TED\"|\"TED-Ed\"|\"T...|  78044|  5398|      53|          385|https://i.ytimg.c...|            False|           False|                 False|Check out our Pat...|\n",
            "|eNSN6qet1kE|     17.14.11|HomeMade Electric...|         PeterSripol|         28|2017-11-13T15:30:...|\"ultralight\"|\"air...|  97007| 11963|      36|         2211|https://i.ytimg.c...|            False|           False|                 False|aaaannnd now to f...|\n",
            "|B5HORANmzHw|     17.14.11|Founding An Inbre...|             SciShow|         27|2017-11-12T22:00:...|\"SciShow\"|\"scienc...| 223871|  8421|     191|         1214|https://i.ytimg.c...|            False|           False|                 False|Thanks to 23AndMe...|\n",
            "+-----------+-------------+--------------------+--------------------+-----------+--------------------+--------------------+-------+------+--------+-------------+--------------------+-----------------+----------------+----------------------+--------------------+\n",
            "only showing top 20 rows\n",
            "\n"
          ]
        }
      ]
    },
    {
      "cell_type": "code",
      "source": [
        "\n",
        "# Otra alternativa para leer desde una fuente de datos parquet en este caso\n",
        "\n",
        "df6 = spark.read.format('parquet').load('./data/dataPARQUET.parquet')\n",
        "\n",
        "df6.printSchema()"
      ],
      "metadata": {
        "colab": {
          "base_uri": "https://localhost:8080/"
        },
        "id": "ddpQjMUBafam",
        "outputId": "f2d77ab9-6e7d-4351-df62-86813dc59b60"
      },
      "execution_count": null,
      "outputs": [
        {
          "output_type": "stream",
          "name": "stdout",
          "text": [
            "root\n",
            " |-- video_id: string (nullable = true)\n",
            " |-- trending_date: string (nullable = true)\n",
            " |-- title: string (nullable = true)\n",
            " |-- channel_title: string (nullable = true)\n",
            " |-- category_id: string (nullable = true)\n",
            " |-- publish_time: string (nullable = true)\n",
            " |-- tags: string (nullable = true)\n",
            " |-- views: string (nullable = true)\n",
            " |-- likes: string (nullable = true)\n",
            " |-- dislikes: string (nullable = true)\n",
            " |-- comment_count: string (nullable = true)\n",
            " |-- thumbnail_link: string (nullable = true)\n",
            " |-- comments_disabled: string (nullable = true)\n",
            " |-- ratings_disabled: string (nullable = true)\n",
            " |-- video_error_or_removed: string (nullable = true)\n",
            " |-- description: string (nullable = true)\n",
            "\n"
          ]
        }
      ]
    },
    {
      "cell_type": "code",
      "source": [
        "df = spark.read.parquet('./data/dataPARQUET.parquet')\n",
        "\n",
        "df.printSchema()\n"
      ],
      "metadata": {
        "colab": {
          "base_uri": "https://localhost:8080/"
        },
        "id": "kxXENAXKapxC",
        "outputId": "bdbe0319-4aa4-4bae-dc62-9cf48b69d4b7"
      },
      "execution_count": null,
      "outputs": [
        {
          "output_type": "stream",
          "name": "stdout",
          "text": [
            "root\n",
            " |-- video_id: string (nullable = true)\n",
            " |-- trending_date: string (nullable = true)\n",
            " |-- title: string (nullable = true)\n",
            " |-- channel_title: string (nullable = true)\n",
            " |-- category_id: string (nullable = true)\n",
            " |-- publish_time: string (nullable = true)\n",
            " |-- tags: string (nullable = true)\n",
            " |-- views: string (nullable = true)\n",
            " |-- likes: string (nullable = true)\n",
            " |-- dislikes: string (nullable = true)\n",
            " |-- comment_count: string (nullable = true)\n",
            " |-- thumbnail_link: string (nullable = true)\n",
            " |-- comments_disabled: string (nullable = true)\n",
            " |-- ratings_disabled: string (nullable = true)\n",
            " |-- video_error_or_removed: string (nullable = true)\n",
            " |-- description: string (nullable = true)\n",
            "\n"
          ]
        }
      ]
    },
    {
      "cell_type": "code",
      "source": [
        "# Primera alternativa para referirnos a las columnas\n",
        "\n",
        "df.select('title').show()\n"
      ],
      "metadata": {
        "colab": {
          "base_uri": "https://localhost:8080/"
        },
        "id": "t8mbeD8KatAE",
        "outputId": "84db1232-8d9f-43a2-e67c-9265152cc2b4"
      },
      "execution_count": null,
      "outputs": [
        {
          "output_type": "stream",
          "name": "stdout",
          "text": [
            "+--------------------+\n",
            "|       channel_title|\n",
            "+--------------------+\n",
            "|        CaseyNeistat|\n",
            "|     LastWeekTonight|\n",
            "|        Rudy Mancuso|\n",
            "|Good Mythical Mor...|\n",
            "|            nigahiga|\n",
            "|            iJustine|\n",
            "| Saturday Night Live|\n",
            "|  CrazyRussianHacker|\n",
            "|    20th Century Fox|\n",
            "|                 Vox|\n",
            "|                 NFL|\n",
            "|                 amc|\n",
            "|          marshmello|\n",
            "|       NowThis World|\n",
            "|     The king of DIY|\n",
            "|      BostonDynamics|\n",
            "|             Cracked|\n",
            "|              TED-Ed|\n",
            "|         PeterSripol|\n",
            "|             SciShow|\n",
            "+--------------------+\n",
            "only showing top 20 rows\n",
            "\n"
          ]
        }
      ]
    },
    {
      "cell_type": "code",
      "source": [
        "from pyspark.sql.functions import col\n",
        "\n",
        "df.select(col('title'), col('likes')).show()\n"
      ],
      "metadata": {
        "colab": {
          "base_uri": "https://localhost:8080/"
        },
        "id": "gs8Oj7pmay6s",
        "outputId": "1e7b75c9-796e-4417-b30a-0f7a573d0973"
      },
      "execution_count": null,
      "outputs": [
        {
          "output_type": "stream",
          "name": "stdout",
          "text": [
            "+--------------------+------+\n",
            "|               title| likes|\n",
            "+--------------------+------+\n",
            "|WE WANT TO TALK A...| 57527|\n",
            "|The Trump Preside...| 97185|\n",
            "|Racist Superman |...|146033|\n",
            "|Nickelback Lyrics...| 10172|\n",
            "|I Dare You: GOING...|132235|\n",
            "|2 Weeks with iPho...|  9763|\n",
            "|Roy Moore & Jeff ...| 15993|\n",
            "|5 Ice Cream Gadge...| 23663|\n",
            "|The Greatest Show...|  3543|\n",
            "|Why the rise of t...| 12654|\n",
            "|Dion Lewis' 103-Y...|   655|\n",
            "|(SPOILERS) 'Shiva...|  1576|\n",
            "|Marshmello - Bloc...|114188|\n",
            "|Which Countries A...|  7848|\n",
            "|SHOPPING FOR NEW ...|  7473|\n",
            "|    The New SpotMini|  9419|\n",
            "|One Change That W...|  8011|\n",
            "|How does your bod...|  5398|\n",
            "|HomeMade Electric...| 11963|\n",
            "|Founding An Inbre...|  8421|\n",
            "+--------------------+------+\n",
            "only showing top 20 rows\n",
            "\n"
          ]
        }
      ]
    },
    {
      "cell_type": "code",
      "source": [
        "# select\n",
        "\n",
        "df = spark.read.parquet('./data/datos.parquet')\n",
        "\n",
        "df.printSchema()"
      ],
      "metadata": {
        "colab": {
          "base_uri": "https://localhost:8080/"
        },
        "id": "Jje5My28bHCy",
        "outputId": "04976d9f-c681-403e-d06c-94236c83c5fb"
      },
      "execution_count": null,
      "outputs": [
        {
          "output_type": "stream",
          "name": "stdout",
          "text": [
            "root\n",
            " |-- video_id: string (nullable = true)\n",
            " |-- trending_date: string (nullable = true)\n",
            " |-- title: string (nullable = true)\n",
            " |-- channel_title: string (nullable = true)\n",
            " |-- category_id: string (nullable = true)\n",
            " |-- publish_time: timestamp (nullable = true)\n",
            " |-- tags: string (nullable = true)\n",
            " |-- views: integer (nullable = true)\n",
            " |-- likes: integer (nullable = true)\n",
            " |-- dislikes: integer (nullable = true)\n",
            " |-- comment_count: integer (nullable = true)\n",
            " |-- thumbnail_link: string (nullable = true)\n",
            " |-- comments_disabled: string (nullable = true)\n",
            " |-- ratings_disabled: string (nullable = true)\n",
            " |-- video_error_or_removed: string (nullable = true)\n",
            " |-- description: string (nullable = true)\n",
            "\n"
          ]
        }
      ]
    },
    {
      "cell_type": "code",
      "source": [
        "from pyspark.sql.functions import col\n",
        "\n",
        "df.select(col('video_id')).show()\n",
        "\n"
      ],
      "metadata": {
        "colab": {
          "base_uri": "https://localhost:8080/"
        },
        "id": "PoFLi8TEbpUu",
        "outputId": "9836e969-0f13-461a-ec52-8701e9dd75fc"
      },
      "execution_count": null,
      "outputs": [
        {
          "output_type": "stream",
          "name": "stdout",
          "text": [
            "+-----------+\n",
            "|   video_id|\n",
            "+-----------+\n",
            "|2kyS6SvSYSE|\n",
            "|1ZAPwfrtAFY|\n",
            "|5qpjK5DgCt4|\n",
            "|puqaWrEC7tY|\n",
            "|d380meD0W0M|\n",
            "|gHZ1Qz0KiKM|\n",
            "|39idVpFF7NQ|\n",
            "|nc99ccSXST0|\n",
            "|jr9QtXwC9vc|\n",
            "|TUmyygCMMGA|\n",
            "|9wRQljFNDW8|\n",
            "|VifQlJit6A0|\n",
            "|5E4ZBSInqUU|\n",
            "|GgVmn66oK_A|\n",
            "|TaTleo4cOs8|\n",
            "|kgaO45SyaO4|\n",
            "|ZAQs-ctOqXQ|\n",
            "|YVfyYrEmzgM|\n",
            "|eNSN6qet1kE|\n",
            "|B5HORANmzHw|\n",
            "+-----------+\n",
            "only showing top 20 rows\n",
            "\n"
          ]
        }
      ]
    },
    {
      "cell_type": "code",
      "source": [
        "df.select('video_id', 'trending_date').show()"
      ],
      "metadata": {
        "colab": {
          "base_uri": "https://localhost:8080/"
        },
        "id": "hBrwBinUbrMS",
        "outputId": "ab18934f-8931-4551-c4fb-865f94442a7a"
      },
      "execution_count": null,
      "outputs": [
        {
          "output_type": "stream",
          "name": "stdout",
          "text": [
            "+-----------+-------------+\n",
            "|   video_id|trending_date|\n",
            "+-----------+-------------+\n",
            "|2kyS6SvSYSE|     17.14.11|\n",
            "|1ZAPwfrtAFY|     17.14.11|\n",
            "|5qpjK5DgCt4|     17.14.11|\n",
            "|puqaWrEC7tY|     17.14.11|\n",
            "|d380meD0W0M|     17.14.11|\n",
            "|gHZ1Qz0KiKM|     17.14.11|\n",
            "|39idVpFF7NQ|     17.14.11|\n",
            "|nc99ccSXST0|     17.14.11|\n",
            "|jr9QtXwC9vc|     17.14.11|\n",
            "|TUmyygCMMGA|     17.14.11|\n",
            "|9wRQljFNDW8|     17.14.11|\n",
            "|VifQlJit6A0|     17.14.11|\n",
            "|5E4ZBSInqUU|     17.14.11|\n",
            "|GgVmn66oK_A|     17.14.11|\n",
            "|TaTleo4cOs8|     17.14.11|\n",
            "|kgaO45SyaO4|     17.14.11|\n",
            "|ZAQs-ctOqXQ|     17.14.11|\n",
            "|YVfyYrEmzgM|     17.14.11|\n",
            "|eNSN6qet1kE|     17.14.11|\n",
            "|B5HORANmzHw|     17.14.11|\n",
            "+-----------+-------------+\n",
            "only showing top 20 rows\n",
            "\n"
          ]
        }
      ]
    },
    {
      "cell_type": "code",
      "source": [
        "# Esta vía nos dará error\n",
        "\n",
        "df.select(\n",
        "    'likes',\n",
        "    'dislikes',\n",
        "    ('likes' - 'dislikes')\n",
        ").show()"
      ],
      "metadata": {
        "colab": {
          "base_uri": "https://localhost:8080/",
          "height": 218
        },
        "id": "xROovAwYbuPo",
        "outputId": "9f8cefd4-9dd2-4ca0-dd58-5dda3fa1de52"
      },
      "execution_count": null,
      "outputs": [
        {
          "output_type": "error",
          "ename": "TypeError",
          "evalue": "ignored",
          "traceback": [
            "\u001b[0;31m---------------------------------------------------------------------------\u001b[0m",
            "\u001b[0;31mTypeError\u001b[0m                                 Traceback (most recent call last)",
            "\u001b[0;32m<ipython-input-51-b79b3b20fa6d>\u001b[0m in \u001b[0;36m<cell line: 3>\u001b[0;34m()\u001b[0m\n\u001b[1;32m      4\u001b[0m     \u001b[0;34m'likes'\u001b[0m\u001b[0;34m,\u001b[0m\u001b[0;34m\u001b[0m\u001b[0;34m\u001b[0m\u001b[0m\n\u001b[1;32m      5\u001b[0m     \u001b[0;34m'dislikes'\u001b[0m\u001b[0;34m,\u001b[0m\u001b[0;34m\u001b[0m\u001b[0;34m\u001b[0m\u001b[0m\n\u001b[0;32m----> 6\u001b[0;31m     \u001b[0;34m(\u001b[0m\u001b[0;34m'likes'\u001b[0m \u001b[0;34m-\u001b[0m \u001b[0;34m'dislikes'\u001b[0m\u001b[0;34m)\u001b[0m\u001b[0;34m\u001b[0m\u001b[0;34m\u001b[0m\u001b[0m\n\u001b[0m\u001b[1;32m      7\u001b[0m ).show()\n",
            "\u001b[0;31mTypeError\u001b[0m: unsupported operand type(s) for -: 'str' and 'str'"
          ]
        }
      ]
    },
    {
      "cell_type": "code",
      "source": [
        "\n",
        "df.select(\n",
        "    col('likes'),\n",
        "    col('dislikes'),\n",
        "    (col('likes') - col('dislikes')).alias('aceptacion')\n",
        ").show()\n"
      ],
      "metadata": {
        "colab": {
          "base_uri": "https://localhost:8080/"
        },
        "id": "wqJP1wDjbx5e",
        "outputId": "98d81610-42a2-43f8-e161-88f6d6d724c2"
      },
      "execution_count": null,
      "outputs": [
        {
          "output_type": "stream",
          "name": "stdout",
          "text": [
            "+------+--------+----------+\n",
            "| likes|dislikes|aceptacion|\n",
            "+------+--------+----------+\n",
            "| 57527|    2966|     54561|\n",
            "| 97185|    6146|     91039|\n",
            "|146033|    5339|    140694|\n",
            "| 10172|     666|      9506|\n",
            "|132235|    1989|    130246|\n",
            "|  9763|     511|      9252|\n",
            "| 15993|    2445|     13548|\n",
            "| 23663|     778|     22885|\n",
            "|  3543|     119|      3424|\n",
            "| 12654|    1363|     11291|\n",
            "|   655|      25|       630|\n",
            "|  1576|     303|      1273|\n",
            "|114188|    1333|    112855|\n",
            "|  7848|    1171|      6677|\n",
            "|  7473|     246|      7227|\n",
            "|  9419|      52|      9367|\n",
            "|  8011|     638|      7373|\n",
            "|  5398|      53|      5345|\n",
            "| 11963|      36|     11927|\n",
            "|  8421|     191|      8230|\n",
            "+------+--------+----------+\n",
            "only showing top 20 rows\n",
            "\n"
          ]
        }
      ]
    },
    {
      "cell_type": "code",
      "source": [
        "# selectExpr\n",
        "df.selectExpr('likes', 'dislikes', '(likes - dislikes) as aceptacion').show()"
      ],
      "metadata": {
        "colab": {
          "base_uri": "https://localhost:8080/"
        },
        "id": "zwDE-X7Vb1UK",
        "outputId": "777f3e86-ba9e-47f8-dc49-f5614173f2e7"
      },
      "execution_count": null,
      "outputs": [
        {
          "output_type": "stream",
          "name": "stdout",
          "text": [
            "+------+--------+----------+\n",
            "| likes|dislikes|aceptacion|\n",
            "+------+--------+----------+\n",
            "| 57527|    2966|     54561|\n",
            "| 97185|    6146|     91039|\n",
            "|146033|    5339|    140694|\n",
            "| 10172|     666|      9506|\n",
            "|132235|    1989|    130246|\n",
            "|  9763|     511|      9252|\n",
            "| 15993|    2445|     13548|\n",
            "| 23663|     778|     22885|\n",
            "|  3543|     119|      3424|\n",
            "| 12654|    1363|     11291|\n",
            "|   655|      25|       630|\n",
            "|  1576|     303|      1273|\n",
            "|114188|    1333|    112855|\n",
            "|  7848|    1171|      6677|\n",
            "|  7473|     246|      7227|\n",
            "|  9419|      52|      9367|\n",
            "|  8011|     638|      7373|\n",
            "|  5398|      53|      5345|\n",
            "| 11963|      36|     11927|\n",
            "|  8421|     191|      8230|\n",
            "+------+--------+----------+\n",
            "only showing top 20 rows\n",
            "\n"
          ]
        }
      ]
    },
    {
      "cell_type": "code",
      "source": [
        "df.selectExpr(\"count(distinct(video_id)) as videos\").show()"
      ],
      "metadata": {
        "colab": {
          "base_uri": "https://localhost:8080/"
        },
        "id": "TSBzajVcceNh",
        "outputId": "f27e3010-a8b7-4a06-9154-758ee1522641"
      },
      "execution_count": null,
      "outputs": [
        {
          "output_type": "stream",
          "name": "stdout",
          "text": [
            "+------+\n",
            "|videos|\n",
            "+------+\n",
            "|  6837|\n",
            "+------+\n",
            "\n"
          ]
        }
      ]
    },
    {
      "cell_type": "code",
      "source": [
        "df_prueba = spark.read.parquet('./data/datos.parquet')\n",
        "df_prueba2=df_prueba.select('title').filter(col('title').like('%WE WANT TO TALK%'))\n",
        "df_prueba2.show()"
      ],
      "metadata": {
        "colab": {
          "base_uri": "https://localhost:8080/"
        },
        "id": "gMfzl2ugeIsx",
        "outputId": "166ade0f-27c7-49df-f120-373bda42cc1b"
      },
      "execution_count": null,
      "outputs": [
        {
          "output_type": "stream",
          "name": "stdout",
          "text": [
            "+--------------------+\n",
            "|               title|\n",
            "+--------------------+\n",
            "|WE WANT TO TALK A...|\n",
            "|WE WANT TO TALK A...|\n",
            "|WE WANT TO TALK A...|\n",
            "|WE WANT TO TALK A...|\n",
            "|WE WANT TO TALK A...|\n",
            "|WE WANT TO TALK A...|\n",
            "|WE WANT TO TALK A...|\n",
            "+--------------------+\n",
            "\n"
          ]
        }
      ]
    }
  ]
}